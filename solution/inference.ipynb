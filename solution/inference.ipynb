{
 "cells": [
  {
   "cell_type": "markdown",
   "id": "8b16af8e",
   "metadata": {
    "papermill": {
     "duration": 0.025312,
     "end_time": "2023-03-22T06:12:39.336548",
     "exception": false,
     "start_time": "2023-03-22T06:12:39.311236",
     "status": "completed"
    },
    "tags": []
   },
   "source": [
    "# <span><h1 style = \"font-family: garamond; font-size: 40px; font-style: normal; letter-spcaing: 3px; background-color: #f6f5f5; color :#346efe; border-radius: 100px 100px; text-align:center\">Torch inference notebook</h1></span>"
   ]
  },
  {
   "cell_type": "markdown",
   "id": "be65d058",
   "metadata": {
    "papermill": {
     "duration": 0.021949,
     "end_time": "2023-03-22T06:12:39.382674",
     "exception": false,
     "start_time": "2023-03-22T06:12:39.360725",
     "status": "completed"
    },
    "tags": []
   },
   "source": [
    "<br>\n",
    "<h2 style = \"font-size:16px\" \n",
    "\n",
    "This is the inference notebook made for training with  https://www.kaggle.com/vladvdv/pytorch-train-notebook-arcface-gem-pooling/notebook  \n",
    "    \n",
    "Modifications for version 30:\n",
    "* replaced supervized KNeighborsClassifier with unsupervized NearestNeighbors   \n",
    "* corrected gridsearch for determining optim \"new_individual\" threhsold* (there are used the same training data as the ones the model was trained, for training the NearestNeighbors algorithm, and then the same validation data that the model was trained to predict on the NearestNeighbors algorithm.  \n",
    "   \n",
    "To do:\n",
    "* Implement all folds model blending\n",
    "\n",
    "Modifications for version 31:\n",
    "* Change original dataset to fins dataset\n",
    "* Change the prediction function (design general function for max, avg and custom blend)"
   ]
  },
  {
   "cell_type": "code",
   "execution_count": 1,
   "id": "692a8477",
   "metadata": {
    "_kg_hide-input": true,
    "execution": {
     "iopub.execute_input": "2023-03-22T06:12:39.461867Z",
     "iopub.status.busy": "2023-03-22T06:12:39.460413Z",
     "iopub.status.idle": "2023-03-22T06:12:45.430243Z",
     "shell.execute_reply": "2023-03-22T06:12:45.429270Z",
     "shell.execute_reply.started": "2023-03-12T08:00:49.689555Z"
    },
    "papermill": {
     "duration": 6.019883,
     "end_time": "2023-03-22T06:12:45.430409",
     "exception": false,
     "start_time": "2023-03-22T06:12:39.410526",
     "status": "completed"
    },
    "tags": []
   },
   "outputs": [],
   "source": [
    "import pickle\n",
    "import os\n",
    "import gc\n",
    "import cv2\n",
    "import math\n",
    "import copy\n",
    "import time\n",
    "import random\n",
    "import numpy as np\n",
    "import pandas as pd\n",
    "import torch\n",
    "import torch.nn as nn\n",
    "import torch.optim as optim\n",
    "import torch.nn.functional as F\n",
    "from torch.optim import lr_scheduler\n",
    "from torch.utils.data import Dataset, DataLoader\n",
    "from torch.cuda import amp\n",
    "import joblib\n",
    "from tqdm import tqdm\n",
    "from collections import defaultdict\n",
    "from sklearn.preprocessing import LabelEncoder\n",
    "from sklearn.model_selection import StratifiedKFold\n",
    "import albumentations as A\n",
    "from albumentations.pytorch import ToTensorV2\n",
    "import warnings\n",
    "warnings.filterwarnings(\"ignore\")\n",
    "import sys\n",
    "sys.path.append(\"../input/timm-pytorch-image-models\")\n",
    "import timm\n",
    "import seaborn as sns\n",
    "from sklearn.neighbors import KNeighborsClassifier\n",
    "from sklearn.neighbors import NearestNeighbors"
   ]
  },
  {
   "cell_type": "code",
   "execution_count": 2,
   "id": "f25dc0f7",
   "metadata": {
    "execution": {
     "iopub.execute_input": "2023-03-22T06:12:45.546584Z",
     "iopub.status.busy": "2023-03-22T06:12:45.545917Z",
     "iopub.status.idle": "2023-03-22T06:12:45.548563Z",
     "shell.execute_reply": "2023-03-22T06:12:45.548974Z",
     "shell.execute_reply.started": "2023-03-12T08:00:55.637400Z"
    },
    "papermill": {
     "duration": 0.095457,
     "end_time": "2023-03-22T06:12:45.549132",
     "exception": false,
     "start_time": "2023-03-22T06:12:45.453675",
     "status": "completed"
    },
    "tags": []
   },
   "outputs": [],
   "source": [
    "CONFIG = {\"seed\": 21, # choose your lucky seed\n",
    "          \"img_size\": 512, # training image size\n",
    "          \"model_name\": \"tf_efficientnet_b3_ns\", # training model arhitecture\n",
    "          \"num_classes\": 4325, # total individuals in training data\n",
    "          \"test_batch_size\": 4, # choose acording to the training arhitecture and image size \n",
    "          \"device\": torch.device(\"cuda:0\" if torch.cuda.is_available() else \"cpu\"), # gpu\n",
    "          \"test_mode\":False, # selects just the first 200 samples from the test data, usefull for debuging purposes\n",
    "          \"n_fold\":3,\n",
    "          # ArcFace Hyperparameters\n",
    "          \"s\": 30.0, \n",
    "          \"m\": 0.30,\n",
    "          \"ls_eps\": 0.0,\n",
    "          \"easy_margin\": False,\n",
    "          \"rotate_h\": False,\n",
    "          \"public_blend\": False\n",
    "          }"
   ]
  },
  {
   "cell_type": "code",
   "execution_count": 3,
   "id": "7e47964b",
   "metadata": {
    "execution": {
     "iopub.execute_input": "2023-03-22T06:12:45.600807Z",
     "iopub.status.busy": "2023-03-22T06:12:45.600105Z",
     "iopub.status.idle": "2023-03-22T06:12:45.604212Z",
     "shell.execute_reply": "2023-03-22T06:12:45.604599Z",
     "shell.execute_reply.started": "2023-03-12T08:00:55.712072Z"
    },
    "papermill": {
     "duration": 0.032296,
     "end_time": "2023-03-22T06:12:45.604763",
     "exception": false,
     "start_time": "2023-03-22T06:12:45.572467",
     "status": "completed"
    },
    "tags": []
   },
   "outputs": [],
   "source": [
    "def set_seed(seed=42):\n",
    "    '''Sets the seed of the entire notebook so results are the same every time we run.\n",
    "    This is for REPRODUCIBILITY.'''\n",
    "    np.random.seed(seed)\n",
    "    torch.manual_seed(seed)\n",
    "    torch.cuda.manual_seed(seed)\n",
    "    # When running on the CuDNN backend, two further options must be set\n",
    "    torch.backends.cudnn.deterministic = True\n",
    "    torch.backends.cudnn.benchmark = False\n",
    "    # Set a fixed value for the hash seed\n",
    "    os.environ['PYTHONHASHSEED'] = str(seed)\n",
    "    \n",
    "set_seed(CONFIG['seed'])"
   ]
  },
  {
   "cell_type": "code",
   "execution_count": 4,
   "id": "c83d075e",
   "metadata": {
    "execution": {
     "iopub.execute_input": "2023-03-22T06:12:45.662426Z",
     "iopub.status.busy": "2023-03-22T06:12:45.661890Z",
     "iopub.status.idle": "2023-03-22T06:12:45.980147Z",
     "shell.execute_reply": "2023-03-22T06:12:45.979318Z",
     "shell.execute_reply.started": "2023-03-12T08:00:55.729742Z"
    },
    "papermill": {
     "duration": 0.350392,
     "end_time": "2023-03-22T06:12:45.980284",
     "exception": false,
     "start_time": "2023-03-22T06:12:45.629892",
     "status": "completed"
    },
    "tags": []
   },
   "outputs": [],
   "source": [
    "def get_test_file_path(id):\n",
    "    return f\"{TEST_DIR}/{id}\"\n",
    "\n",
    "def get_train_file_path(id):\n",
    "    return f\"{TRAIN_DIR}/{id}\"\n",
    "\n",
    "TEST_DIR = '../input/happy-whales/images/images'\n",
    "TRAIN_DIR = '../input/happy-whales/images/images'\n",
    "weights_path = \"../input/weights/Loss6.5796_epoch6_v17_eff3.bin\"\n",
    "\n",
    "if CONFIG[\"test_mode\"]==True:\n",
    "    df_test = pd.read_csv(\"../input/happy-whales/test_png_processed_wdup.csv\")[:2000]\n",
    "    df_train = pd.read_csv(\"../input/happy-whales/final_train.csv\")[:2000]\n",
    "else:\n",
    "    df_test = pd.read_csv(\"../input/happy-whales/test_mod.csv\")\n",
    "    df_train = pd.read_csv(\"../input/happy-whales/train_mod.csv\")  \n",
    "\n",
    "df_test['file_path'] = df_test['image'].apply(get_test_file_path)\n",
    "df_train['file_path'] = df_train['image'].apply(get_train_file_path)\n",
    "\n",
    "encoder = LabelEncoder()\n",
    "df_train['individual_id'] = encoder.fit_transform(df_train['class_id'])\n",
    "\n",
    "train_labels = np.array(df_train['individual_id'].values)\n",
    "#split into train and valid like in the training notebook for validating NearestNeighbors approach \n",
    "trainFold = 0 # this model was trained on fold 0\n",
    "\n",
    "skf = StratifiedKFold(n_splits=CONFIG['n_fold'])\n",
    "for fold, ( _, val_) in enumerate(skf.split(X=df_train, y=train_labels)):\n",
    "      df_train.loc[val_ , \"kfold\"] = fold\n",
    "df_train_cnn = df_train[df_train.kfold != trainFold].reset_index(drop=True)\n",
    "df_valid_cnn = df_train[df_train.kfold == trainFold].reset_index(drop=True)\n",
    "\n",
    "\n",
    "#hardcode dummy label for input in ArcMargin forward function\n",
    "df_test['dummy_labels'] = 0\n",
    "df_train_cnn['dummy_labels'] = 0\n",
    "df_valid_cnn['dummy_labels'] = 0\n",
    "\n"
   ]
  },
  {
   "cell_type": "code",
   "execution_count": 5,
   "id": "a5ab373f",
   "metadata": {
    "execution": {
     "iopub.execute_input": "2023-03-22T06:12:46.033749Z",
     "iopub.status.busy": "2023-03-22T06:12:46.032875Z",
     "iopub.status.idle": "2023-03-22T06:12:46.036549Z",
     "shell.execute_reply": "2023-03-22T06:12:46.036973Z",
     "shell.execute_reply.started": "2023-03-12T08:00:56.070794Z"
    },
    "papermill": {
     "duration": 0.03355,
     "end_time": "2023-03-22T06:12:46.037112",
     "exception": false,
     "start_time": "2023-03-22T06:12:46.003562",
     "status": "completed"
    },
    "tags": []
   },
   "outputs": [
    {
     "data": {
      "text/plain": [
       "'../input/happy-whales/images/images/mwiNS62kZXUEJARdf3rxCpI0VztLO1B7guKTDGMj.jpg'"
      ]
     },
     "execution_count": 5,
     "metadata": {},
     "output_type": "execute_result"
    }
   ],
   "source": [
    "df_test.iloc[0]['file_path']"
   ]
  },
  {
   "cell_type": "code",
   "execution_count": 6,
   "id": "b1496cf5",
   "metadata": {
    "execution": {
     "iopub.execute_input": "2023-03-22T06:12:46.091666Z",
     "iopub.status.busy": "2023-03-22T06:12:46.090957Z",
     "iopub.status.idle": "2023-03-22T06:12:46.093074Z",
     "shell.execute_reply": "2023-03-22T06:12:46.093445Z",
     "shell.execute_reply.started": "2023-03-12T08:00:56.081849Z"
    },
    "papermill": {
     "duration": 0.032958,
     "end_time": "2023-03-22T06:12:46.093583",
     "exception": false,
     "start_time": "2023-03-22T06:12:46.060625",
     "status": "completed"
    },
    "tags": []
   },
   "outputs": [],
   "source": [
    "class HappyWhaleDataset(Dataset):\n",
    "    def __init__(self, df, transforms=None):\n",
    "        self.df = df\n",
    "        self.file_names = df['file_path'].values\n",
    "        self.labels = df['dummy_labels'].values\n",
    "        self.transforms = transforms\n",
    "        \n",
    "    def __len__(self):\n",
    "        return len(self.df)\n",
    "    \n",
    "    def __getitem__(self, index):\n",
    "        img_path = self.file_names[index]\n",
    "        img = cv2.imread(img_path)\n",
    "        if img is None:\n",
    "            print(\"Input image is empty\", img_path)\n",
    "            img = np.zeros((100, 100, 3), np.uint8)\n",
    "        img = cv2.cvtColor(img, cv2.COLOR_BGR2RGB)\n",
    "        label = self.labels[index]\n",
    "        \n",
    "        if self.transforms:\n",
    "            img = self.transforms(image=img)[\"image\"]\n",
    "        return {\n",
    "            'image': img,\n",
    "            'label': torch.tensor(label, dtype=torch.long)\n",
    "        }\n",
    "        "
   ]
  },
  {
   "cell_type": "code",
   "execution_count": 7,
   "id": "f9723084",
   "metadata": {
    "execution": {
     "iopub.execute_input": "2023-03-22T06:12:46.146575Z",
     "iopub.status.busy": "2023-03-22T06:12:46.141440Z",
     "iopub.status.idle": "2023-03-22T06:12:46.148998Z",
     "shell.execute_reply": "2023-03-22T06:12:46.148515Z",
     "shell.execute_reply.started": "2023-03-12T08:00:56.096363Z"
    },
    "papermill": {
     "duration": 0.032822,
     "end_time": "2023-03-22T06:12:46.149114",
     "exception": false,
     "start_time": "2023-03-22T06:12:46.116292",
     "status": "completed"
    },
    "tags": []
   },
   "outputs": [],
   "source": [
    "class GeM(nn.Module):\n",
    "    def __init__(self, p=3, eps=1e-6):\n",
    "        super(GeM, self).__init__()\n",
    "        self.p = nn.Parameter(torch.ones(1)*p)\n",
    "        self.eps = eps\n",
    "\n",
    "    def forward(self, x):\n",
    "        return self.gem(x, p=self.p, eps=self.eps)\n",
    "        \n",
    "    def gem(self, x, p=3, eps=1e-6):\n",
    "        return F.avg_pool2d(x.clamp(min=eps).pow(p), (x.size(-2), x.size(-1))).pow(1./p)\n",
    "        \n",
    "    def __repr__(self):\n",
    "        return self.__class__.__name__ + \\\n",
    "                '(' + 'p=' + '{:.4f}'.format(self.p.data.tolist()[0]) + \\\n",
    "                ', ' + 'eps=' + str(self.eps) + ')'"
   ]
  },
  {
   "cell_type": "code",
   "execution_count": 8,
   "id": "2b45b9b6",
   "metadata": {
    "execution": {
     "iopub.execute_input": "2023-03-22T06:12:46.198798Z",
     "iopub.status.busy": "2023-03-22T06:12:46.197986Z",
     "iopub.status.idle": "2023-03-22T06:12:46.208370Z",
     "shell.execute_reply": "2023-03-22T06:12:46.208822Z",
     "shell.execute_reply.started": "2023-03-12T08:00:56.110435Z"
    },
    "papermill": {
     "duration": 0.036266,
     "end_time": "2023-03-22T06:12:46.208960",
     "exception": false,
     "start_time": "2023-03-22T06:12:46.172694",
     "status": "completed"
    },
    "tags": []
   },
   "outputs": [],
   "source": [
    "class ArcMarginProduct(nn.Module):\n",
    "    r\"\"\"Implement of large margin arc distance: :\n",
    "        Args:\n",
    "            in_features: size of each input sample\n",
    "            out_features: size of each output sample\n",
    "            s: norm of input feature\n",
    "            m: margin\n",
    "            cos(theta + m)\n",
    "        \"\"\"\n",
    "    def __init__(self, in_features, out_features, s=30.0, \n",
    "                 m=0.50, easy_margin=False, ls_eps=0.0):\n",
    "        super(ArcMarginProduct, self).__init__()\n",
    "        self.in_features = in_features\n",
    "        self.out_features = out_features\n",
    "        self.s = s\n",
    "        self.m = m\n",
    "        self.ls_eps = ls_eps  # label smoothing\n",
    "        self.weight = nn.Parameter(torch.FloatTensor(out_features, in_features))\n",
    "        nn.init.xavier_uniform_(self.weight)\n",
    "\n",
    "        self.easy_margin = easy_margin\n",
    "        self.cos_m = math.cos(m)\n",
    "        self.sin_m = math.sin(m)\n",
    "        self.th = math.cos(math.pi - m)\n",
    "        self.mm = math.sin(math.pi - m) * m\n",
    "\n",
    "    def forward(self, input, label):\n",
    "        # --------------------------- cos(theta) & phi(theta) ---------------------\n",
    "        cosine = F.linear(F.normalize(input), F.normalize(self.weight))\n",
    "        sine = torch.sqrt(1.0 - torch.pow(cosine, 2))\n",
    "        phi = cosine * self.cos_m - sine * self.sin_m\n",
    "        if self.easy_margin:\n",
    "            phi = torch.where(cosine > 0, phi, cosine)\n",
    "        else:\n",
    "            phi = torch.where(cosine > self.th, phi, cosine - self.mm)\n",
    "        # --------------------------- convert label to one-hot ---------------------\n",
    "        # one_hot = torch.zeros(cosine.size(), requires_grad=True, device='cuda')\n",
    "        one_hot = torch.zeros(cosine.size(), device=CONFIG['device'])\n",
    "        one_hot.scatter_(1, label.view(-1, 1).long(), 1)\n",
    "        if self.ls_eps > 0:\n",
    "            one_hot = (1 - self.ls_eps) * one_hot + self.ls_eps / self.out_features\n",
    "        # -------------torch.where(out_i = {x_i if condition_i else y_i) ------------\n",
    "        output = (one_hot * phi) + ((1.0 - one_hot) * cosine)\n",
    "        output *= self.s\n",
    "\n",
    "        return output"
   ]
  },
  {
   "cell_type": "code",
   "execution_count": 9,
   "id": "841bda13",
   "metadata": {
    "execution": {
     "iopub.execute_input": "2023-03-22T06:12:46.262536Z",
     "iopub.status.busy": "2023-03-22T06:12:46.261744Z",
     "iopub.status.idle": "2023-03-22T06:12:46.263663Z",
     "shell.execute_reply": "2023-03-22T06:12:46.264111Z",
     "shell.execute_reply.started": "2023-03-12T08:00:56.124670Z"
    },
    "papermill": {
     "duration": 0.032527,
     "end_time": "2023-03-22T06:12:46.264242",
     "exception": false,
     "start_time": "2023-03-22T06:12:46.231715",
     "status": "completed"
    },
    "tags": []
   },
   "outputs": [],
   "source": [
    "class HappyWhaleModel(nn.Module):\n",
    "    def __init__(self, model_name, pretrained=True):\n",
    "        super(HappyWhaleModel, self).__init__()\n",
    "        self.model = timm.create_model(model_name, pretrained=pretrained)\n",
    "        in_features = self.model.classifier.in_features\n",
    "        self.model.classifier = nn.Identity()\n",
    "        self.model.global_pool = nn.Identity()\n",
    "        self.pooling = GeM()\n",
    "        self.drop = nn.Dropout(p=0.2, inplace=False)\n",
    "        self.fc = nn.Linear(in_features,2048)\n",
    "        self.arc = ArcMarginProduct(2048, \n",
    "                           CONFIG[\"num_classes\"],\n",
    "                           s=CONFIG[\"s\"], \n",
    "                           m=CONFIG[\"m\"], \n",
    "                           easy_margin=CONFIG[\"ls_eps\"], \n",
    "                           ls_eps=CONFIG[\"ls_eps\"])\n",
    "    def forward(self, images, labels):\n",
    "        features = self.model(images)\n",
    "        pooled_features = self.pooling(features).flatten(1)\n",
    "        pooled_drop = self.drop(pooled_features)\n",
    "        emb = self.fc(pooled_drop)\n",
    "        output = self.arc(emb,labels)\n",
    "        return output,emb"
   ]
  },
  {
   "cell_type": "code",
   "execution_count": 10,
   "id": "cd38b1d8",
   "metadata": {
    "execution": {
     "iopub.execute_input": "2023-03-22T06:12:46.314413Z",
     "iopub.status.busy": "2023-03-22T06:12:46.313657Z",
     "iopub.status.idle": "2023-03-22T06:12:46.315508Z",
     "shell.execute_reply": "2023-03-22T06:12:46.315986Z",
     "shell.execute_reply.started": "2023-03-12T08:00:56.143705Z"
    },
    "papermill": {
     "duration": 0.029415,
     "end_time": "2023-03-22T06:12:46.316114",
     "exception": false,
     "start_time": "2023-03-22T06:12:46.286699",
     "status": "completed"
    },
    "tags": []
   },
   "outputs": [],
   "source": [
    "data_transforms = {\n",
    "    \"test\": A.Compose([\n",
    "        A.Resize(CONFIG['img_size'], CONFIG['img_size']),\n",
    "        A.Normalize(\n",
    "                mean=[0.485, 0.456, 0.406], \n",
    "                std=[0.229, 0.224, 0.225], \n",
    "                max_pixel_value=255.0, \n",
    "                p=1.0\n",
    "            ),\n",
    "        ToTensorV2()], p=1.)\n",
    "    \n",
    "}"
   ]
  },
  {
   "cell_type": "code",
   "execution_count": 11,
   "id": "c655630d",
   "metadata": {
    "execution": {
     "iopub.execute_input": "2023-03-22T06:12:46.364916Z",
     "iopub.status.busy": "2023-03-22T06:12:46.364164Z",
     "iopub.status.idle": "2023-03-22T06:12:46.370056Z",
     "shell.execute_reply": "2023-03-22T06:12:46.369600Z",
     "shell.execute_reply.started": "2023-03-12T08:00:56.157852Z"
    },
    "papermill": {
     "duration": 0.031138,
     "end_time": "2023-03-22T06:12:46.370174",
     "exception": false,
     "start_time": "2023-03-22T06:12:46.339036",
     "status": "completed"
    },
    "tags": []
   },
   "outputs": [],
   "source": [
    "@torch.inference_mode()\n",
    "def inference(model, dataloader, device):\n",
    "    model.eval()  \n",
    "    outputList=[]\n",
    "    bar = tqdm(enumerate(dataloader), total=len(dataloader))\n",
    "    for step, data in bar:        \n",
    "        images = data['image'].to(device, dtype=torch.float)\n",
    "        labels = data['label'].to(device, dtype=torch.long)\n",
    "        _, outputs = model(images,labels)\n",
    "        outputList.extend(outputs.cpu().detach().numpy())\n",
    "    return outputList"
   ]
  },
  {
   "cell_type": "code",
   "execution_count": 12,
   "id": "12459ee2",
   "metadata": {
    "execution": {
     "iopub.execute_input": "2023-03-22T06:12:46.425241Z",
     "iopub.status.busy": "2023-03-22T06:12:46.424615Z",
     "iopub.status.idle": "2023-03-22T06:12:53.103153Z",
     "shell.execute_reply": "2023-03-22T06:12:53.103585Z",
     "shell.execute_reply.started": "2023-03-12T08:00:56.167562Z"
    },
    "papermill": {
     "duration": 6.710845,
     "end_time": "2023-03-22T06:12:53.103829",
     "exception": false,
     "start_time": "2023-03-22T06:12:46.392984",
     "status": "completed"
    },
    "tags": []
   },
   "outputs": [
    {
     "name": "stderr",
     "output_type": "stream",
     "text": [
      "Downloading: \"https://github.com/rwightman/pytorch-image-models/releases/download/v0.1-weights/tf_efficientnet_b3_ns-9d44bf68.pth\" to /root/.cache/torch/hub/checkpoints/tf_efficientnet_b3_ns-9d44bf68.pth\n"
     ]
    }
   ],
   "source": [
    "model = HappyWhaleModel(CONFIG['model_name'])\n",
    "model.to(CONFIG['device']);\n",
    "model.load_state_dict(torch.load(weights_path))\n",
    "#predict first on train dataset to extract embeddings\n",
    "train_dataset = HappyWhaleDataset(df_train_cnn, transforms=data_transforms[\"test\"])\n",
    "train_loader = DataLoader(train_dataset, batch_size=CONFIG['test_batch_size'], \n",
    "                          num_workers=4, shuffle=False, pin_memory=True)\n",
    "\n",
    "valid_dataset = HappyWhaleDataset(df_valid_cnn, transforms=data_transforms[\"test\"])\n",
    "valid_loader = DataLoader(valid_dataset, batch_size=CONFIG['test_batch_size'], \n",
    "                          num_workers=4, shuffle=False, pin_memory=True)\n",
    "\n",
    "test_dataset = HappyWhaleDataset(df_test, transforms=data_transforms[\"test\"])\n",
    "test_loader = DataLoader(test_dataset, batch_size=CONFIG['test_batch_size'], \n",
    "                          num_workers=4, shuffle=False, pin_memory=True)"
   ]
  },
  {
   "cell_type": "code",
   "execution_count": 13,
   "id": "1ed42137",
   "metadata": {
    "execution": {
     "iopub.execute_input": "2023-03-22T06:12:53.159778Z",
     "iopub.status.busy": "2023-03-22T06:12:53.158131Z",
     "iopub.status.idle": "2023-03-22T06:12:53.160360Z",
     "shell.execute_reply": "2023-03-22T06:12:53.160802Z",
     "shell.execute_reply.started": "2023-03-12T08:01:06.581404Z"
    },
    "papermill": {
     "duration": 0.032722,
     "end_time": "2023-03-22T06:12:53.160945",
     "exception": false,
     "start_time": "2023-03-22T06:12:53.128223",
     "status": "completed"
    },
    "tags": []
   },
   "outputs": [],
   "source": [
    "def map_per_image(label, predictions):\n",
    "    \"\"\"Computes the precision score of one image.\n",
    "\n",
    "    Parameters\n",
    "    ----------\n",
    "    label : string\n",
    "            The true label of the image\n",
    "    predictions : list\n",
    "            A list of predicted elements (order does matter, 5 predictions allowed per image)\n",
    "\n",
    "    Returns\n",
    "    -------\n",
    "    score : double\n",
    "    \"\"\"    \n",
    "    try:\n",
    "        return 1 / (predictions[:5].index(label) + 1)\n",
    "    except ValueError:\n",
    "        return 0.0\n",
    "\n",
    "def map_per_set(labels, predictions):\n",
    "    \"\"\"Computes the average over multiple images.\n",
    "\n",
    "    Parameters\n",
    "    ----------\n",
    "    labels : list\n",
    "             A list of the true labels. (Only one true label per images allowed!)\n",
    "    predictions : list of list\n",
    "             A list of predicted elements (order does matter, 5 predictions allowed per image)\n",
    "\n",
    "    Returns\n",
    "    -------\n",
    "    score : double\n",
    "    \"\"\"\n",
    "    return np.mean([map_per_image(l, p) for l,p in zip(labels, predictions)])"
   ]
  },
  {
   "cell_type": "code",
   "execution_count": 14,
   "id": "b2345a41",
   "metadata": {
    "execution": {
     "iopub.execute_input": "2023-03-22T06:12:53.221871Z",
     "iopub.status.busy": "2023-03-22T06:12:53.220260Z",
     "iopub.status.idle": "2023-03-22T06:12:53.222509Z",
     "shell.execute_reply": "2023-03-22T06:12:53.222950Z",
     "shell.execute_reply.started": "2023-03-12T08:01:06.590920Z"
    },
    "papermill": {
     "duration": 0.03815,
     "end_time": "2023-03-22T06:12:53.223100",
     "exception": false,
     "start_time": "2023-03-22T06:12:53.184950",
     "status": "completed"
    },
    "tags": []
   },
   "outputs": [],
   "source": [
    "def PredictGrid(train_cnn_predictions,valid_cnn_predictions, train_labels, valid_labels,new_individual_thres):\n",
    "    neigh = NearestNeighbors(n_neighbors=CONFIG[\"neigh\"],metric=\"cosine\")\n",
    "    neigh.fit(train_cnn_predictions)\n",
    "    \n",
    "    distances,idxs = neigh.kneighbors(valid_cnn_predictions, return_distance=True)\n",
    "    conf = 1-distances\n",
    "    preds=[]\n",
    "\n",
    "    for j in range(len(idxs)):\n",
    "        preds.append(list(train_labels[idxs[j]]))\n",
    "\n",
    "        \n",
    "\n",
    "    allTop5Preds=[]\n",
    "    valid_labels_list=[]\n",
    "    for i in range(len(preds)):\n",
    "        valid_labels_list.append((valid_labels[i]))\n",
    "\n",
    "        predictTop = preds[i][:5]\n",
    "        Top5Conf = conf[i][:5]\n",
    "\n",
    "        if Top5Conf[0] < new_individual_thres:\n",
    "           \n",
    "            tempList=['new_individual',predictTop[0],predictTop[1],predictTop[2],predictTop[3]]\n",
    "            allTop5Preds.append(tempList)   \n",
    "           \n",
    "        elif Top5Conf[1] < new_individual_thres:\n",
    "   \n",
    "            tempList=[predictTop[0],'new_individual',predictTop[1],predictTop[2],predictTop[3]]\n",
    "            allTop5Preds.append(tempList)    \n",
    "           \n",
    "        elif Top5Conf[2] < new_individual_thres:\n",
    "\n",
    "            tempList=[predictTop[0],predictTop[1],'new_individual',predictTop[2],predictTop[3]]\n",
    "            allTop5Preds.append(tempList)    \n",
    "           \n",
    "        elif Top5Conf[3] < new_individual_thres:\n",
    "           \n",
    "            tempList=[predictTop[0],predictTop[1],predictTop[2],'new_individual',predictTop[3]]        \n",
    "            allTop5Preds.append(tempList)  \n",
    "           \n",
    "        elif Top5Conf[4] < new_individual_thres:\n",
    "\n",
    "            tempList=[predictTop[0],predictTop[1],predictTop[2],predictTop[3],'new_individual']        \n",
    "            allTop5Preds.append(tempList)        \n",
    "           \n",
    "        else:\n",
    "            allTop5Preds.append(predictTop)\n",
    "\n",
    "        if (('new_individual' in allTop5Preds[-1]) and (valid_labels_list[i] not in train_labels)):\n",
    "            allTop5Preds[-1] = [valid_labels_list[i] if x=='new_individual' else x for x in allTop5Preds[-1]]\n",
    "\n",
    "    score = map_per_set(valid_labels_list,allTop5Preds)\n",
    "\n",
    "    return score"
   ]
  },
  {
   "cell_type": "markdown",
   "id": "6f5ad2b4",
   "metadata": {
    "papermill": {
     "duration": 0.022763,
     "end_time": "2023-03-22T06:12:53.269308",
     "exception": false,
     "start_time": "2023-03-22T06:12:53.246545",
     "status": "completed"
    },
    "tags": []
   },
   "source": [
    "**We are training a NearestNeighbors algorithm on the data that had been use as trainset in the train kernel and test the results on the validation data from the original kernel** (https://www.kaggle.com/vladvdv/pytorch-train-notebook-arcface-gem-pooling/notebook  )"
   ]
  },
  {
   "cell_type": "code",
   "execution_count": 15,
   "id": "c5430454",
   "metadata": {
    "execution": {
     "iopub.execute_input": "2023-03-22T06:12:53.320703Z",
     "iopub.status.busy": "2023-03-22T06:12:53.320047Z",
     "iopub.status.idle": "2023-03-22T06:27:14.226564Z",
     "shell.execute_reply": "2023-03-22T06:27:14.225946Z",
     "shell.execute_reply.started": "2023-03-12T08:01:06.724738Z"
    },
    "papermill": {
     "duration": 860.934585,
     "end_time": "2023-03-22T06:27:14.226739",
     "exception": false,
     "start_time": "2023-03-22T06:12:53.292154",
     "status": "completed"
    },
    "tags": []
   },
   "outputs": [
    {
     "name": "stderr",
     "output_type": "stream",
     "text": [
      " 66%|██████▋   | 5271/7927 [06:20<03:07, 14.19it/s]"
     ]
    },
    {
     "name": "stdout",
     "output_type": "stream",
     "text": [
      "Input image is empty ../input/happy-whales/images/images/UXPn1iK24TajF9sLCQpGbJhE5Mex0BwDVZyfIqdN.jpg\n"
     ]
    },
    {
     "name": "stderr",
     "output_type": "stream",
     "text": [
      " 69%|██████▉   | 5487/7927 [06:36<02:54, 13.96it/s]"
     ]
    },
    {
     "name": "stdout",
     "output_type": "stream",
     "text": [
      "Input image is empty ../input/happy-whales/images/images/Do8NgnvcP6htYxeATaXw4SpbBVHQu15rfksjCULm.jpg\n"
     ]
    },
    {
     "name": "stderr",
     "output_type": "stream",
     "text": [
      "100%|██████████| 7927/7927 [09:32<00:00, 13.85it/s]\n",
      "100%|██████████| 3964/3964 [04:48<00:00, 13.75it/s]\n"
     ]
    }
   ],
   "source": [
    "df_train_cnn_predictions = np.array(inference(model, train_loader, CONFIG['device']))\n",
    "df_valid_cnn_predictions = np.array(inference(model, valid_loader, CONFIG['device']))\n",
    "train_cnn_labels = np.array(df_train_cnn['individual_id'].values)\n",
    "valid_cnn_labels = np.array(df_valid_cnn['individual_id'].values)\n"
   ]
  },
  {
   "cell_type": "code",
   "execution_count": 16,
   "id": "b1bc1906",
   "metadata": {
    "execution": {
     "iopub.execute_input": "2023-03-22T06:27:17.495820Z",
     "iopub.status.busy": "2023-03-22T06:27:17.494950Z",
     "iopub.status.idle": "2023-03-22T06:27:17.661913Z",
     "shell.execute_reply": "2023-03-22T06:27:17.661315Z",
     "shell.execute_reply.started": "2023-03-12T08:16:19.334095Z"
    },
    "papermill": {
     "duration": 1.780954,
     "end_time": "2023-03-22T06:27:17.662063",
     "exception": false,
     "start_time": "2023-03-22T06:27:15.881109",
     "status": "completed"
    },
    "tags": []
   },
   "outputs": [],
   "source": [
    "# encoder = LabelEncoder()\n",
    "df_train.to_csv(\"map.csv\")"
   ]
  },
  {
   "cell_type": "code",
   "execution_count": 17,
   "id": "a532a845",
   "metadata": {
    "execution": {
     "iopub.execute_input": "2023-03-22T06:27:20.949393Z",
     "iopub.status.busy": "2023-03-22T06:27:20.948478Z",
     "iopub.status.idle": "2023-03-22T06:37:01.005075Z",
     "shell.execute_reply": "2023-03-22T06:37:01.005826Z",
     "shell.execute_reply.started": "2023-03-12T08:16:19.508807Z"
    },
    "papermill": {
     "duration": 581.711518,
     "end_time": "2023-03-22T06:37:01.006055",
     "exception": false,
     "start_time": "2023-03-22T06:27:19.294537",
     "status": "completed"
    },
    "tags": []
   },
   "outputs": [
    {
     "name": "stderr",
     "output_type": "stream",
     "text": [
      " 49%|████▉     | 3872/7928 [04:44<04:14, 15.94it/s]"
     ]
    },
    {
     "name": "stdout",
     "output_type": "stream",
     "text": [
      "Input image is empty ../input/happy-whales/images/images/cNyt4CZg28wqbuAEzKhi07mYSOLkM31Xj6WITxHl.jpg\n"
     ]
    },
    {
     "name": "stderr",
     "output_type": "stream",
     "text": [
      " 60%|█████▉    | 4737/7928 [05:46<03:44, 14.24it/s]"
     ]
    },
    {
     "name": "stdout",
     "output_type": "stream",
     "text": [
      "Input image is empty ../input/happy-whales/images/images/NBnPjFVk1K75r3hU4MTIdqXWcGYEzxpiOwQAvRCZ.jpg\n"
     ]
    },
    {
     "name": "stderr",
     "output_type": "stream",
     "text": [
      " 88%|████████▊ | 7000/7928 [08:32<01:09, 13.44it/s]"
     ]
    },
    {
     "name": "stdout",
     "output_type": "stream",
     "text": [
      "Input image is empty ../input/happy-whales/images/images/YvIJXZ1f7o0mhC9UszkTF6dQceErGWLPVMaKyRpi.jpg\n"
     ]
    },
    {
     "name": "stderr",
     "output_type": "stream",
     "text": [
      "100%|██████████| 7928/7928 [09:39<00:00, 13.68it/s]\n"
     ]
    }
   ],
   "source": [
    "test_cnn_predictions =  np.array(inference(model, test_loader, CONFIG['device']))\n",
    "\n",
    "allTrainData = np.concatenate((df_train_cnn_predictions,df_valid_cnn_predictions))\n",
    "allTrainingLabels = np.concatenate((train_cnn_labels,valid_cnn_labels)) "
   ]
  },
  {
   "cell_type": "code",
   "execution_count": null,
   "id": "a1a6cc56",
   "metadata": {
    "execution": {
     "iopub.execute_input": "2023-03-12T08:26:13.247395Z",
     "iopub.status.busy": "2023-03-12T08:26:13.247124Z",
     "iopub.status.idle": "2023-03-12T08:26:13.353712Z",
     "shell.execute_reply": "2023-03-12T08:26:13.353026Z",
     "shell.execute_reply.started": "2023-03-12T08:26:13.247362Z"
    },
    "papermill": {
     "duration": 2.931872,
     "end_time": "2023-03-22T06:37:06.930232",
     "exception": false,
     "start_time": "2023-03-22T06:37:03.998360",
     "status": "completed"
    },
    "tags": []
   },
   "outputs": [],
   "source": []
  },
  {
   "cell_type": "code",
   "execution_count": null,
   "id": "4d050028",
   "metadata": {
    "execution": {
     "iopub.execute_input": "2023-03-12T08:26:13.355260Z",
     "iopub.status.busy": "2023-03-12T08:26:13.354997Z",
     "iopub.status.idle": "2023-03-12T08:26:13.436862Z",
     "shell.execute_reply": "2023-03-12T08:26:13.436228Z",
     "shell.execute_reply.started": "2023-03-12T08:26:13.355226Z"
    },
    "papermill": {
     "duration": 2.710048,
     "end_time": "2023-03-22T06:37:12.320259",
     "exception": false,
     "start_time": "2023-03-22T06:37:09.610211",
     "status": "completed"
    },
    "tags": []
   },
   "outputs": [],
   "source": []
  },
  {
   "cell_type": "code",
   "execution_count": 18,
   "id": "09938c01",
   "metadata": {
    "execution": {
     "iopub.execute_input": "2023-03-22T06:37:17.919619Z",
     "iopub.status.busy": "2023-03-22T06:37:17.918992Z",
     "iopub.status.idle": "2023-03-22T06:37:17.923197Z",
     "shell.execute_reply": "2023-03-22T06:37:17.922291Z",
     "shell.execute_reply.started": "2023-03-12T08:26:13.438511Z"
    },
    "papermill": {
     "duration": 2.943891,
     "end_time": "2023-03-22T06:37:17.923323",
     "exception": false,
     "start_time": "2023-03-22T06:37:14.979432",
     "status": "completed"
    },
    "tags": []
   },
   "outputs": [],
   "source": [
    "def GetDuplicates(elem, lst):\n",
    "    if elem in lst:\n",
    "        counter = 0\n",
    "        elem_pos = []\n",
    "        for i in lst:\n",
    "            if i == elem:\n",
    "                elem_pos.append(counter)\n",
    "            counter = counter + 1\n",
    "        return(elem_pos)    \n",
    "    \n",
    "def GetSubmission(train_data_list,test_data_list, train_labels_list,neighbors=5,metric='cosine', new_individual_thres=0.6,blendType = \"avg\"):\n",
    "    df = pd.read_csv(r\"../input/happy-whales/test_mod.csv\")    \n",
    "    dfResults =pd.DataFrame(columns=set(train_labels_list[0]), index = df['image'])\n",
    "    \n",
    "    for it in range(len(train_data_list)):\n",
    "        train_data = train_data_list[it]\n",
    "        test_data = test_data_list[it]\n",
    "        train_labels = train_labels_list[it]\n",
    "        \n",
    "        neigh = NearestNeighbors(n_neighbors=neighbors,metric=metric)\n",
    "        neigh.fit(train_data)\n",
    "        distances,idxs = neigh.kneighbors(test_data, return_distance=True)\n",
    "        conf = 1-distances\n",
    "\n",
    "        preds=[]\n",
    "        \n",
    "        for i in range(len(idxs)):\n",
    "            preds.append(train_labels[idxs[i]])\n",
    "        \n",
    "        #remove duplicate predictions\n",
    "        allPredsCleared = []\n",
    "        allConfCleared = []\n",
    "        for x in range(len(preds)):\n",
    "            indexesToRemove=[]    \n",
    "            for i in range(len(preds[x])):\n",
    "                duplList = GetDuplicates(preds[x][i],preds[x])\n",
    "                if len(duplList)>1:\n",
    "                    for elem in duplList[1:]:\n",
    "                        indexesToRemove.append(elem)\n",
    "                \n",
    "                \n",
    "            indexesToRemove=list(set(indexesToRemove))\n",
    "            \n",
    "            # print(indexesToRemove)\n",
    "            \n",
    "            predsCleared = [i for j, i in enumerate(preds[x]) if j not in indexesToRemove]\n",
    "            confCleared  = [i for j, i in enumerate(conf[x]) if j not in indexesToRemove]    \n",
    "            allPredsCleared.append(predsCleared)\n",
    "            allConfCleared.append(confCleared)\n",
    "    \n",
    "    \n",
    "        # if prediction is nan create new record, otherwise append to existing one\n",
    "        for i in range(len(allPredsCleared)):\n",
    "            for j in range(len(allPredsCleared[i])):\n",
    "                if np.isnan(dfResults.loc[df.iloc[i]['image']][allPredsCleared[i][j]]).any()==True:\n",
    "                    dfResults.loc[df.iloc[i]['image']][allPredsCleared[i][j]] = [allConfCleared[i][j]]\n",
    "                else:\n",
    "                    dfResults.loc[df.iloc[i]['image']][allPredsCleared[i][j]].append(conf[i][j])\n",
    "    \n",
    "    #get mean predictions\n",
    "    dictList=[]\n",
    "    for imageName in (dfResults.index):\n",
    "        results= dfResults.loc[imageName]\n",
    "        tempDict={}\n",
    "        for k in range(len(results)):\n",
    "            if np.isnan(results[k]).any()!=True:\n",
    "                if(blendType==\"avg\"):\n",
    "                    blendConf=np.mean(results[k]) \n",
    "                if(blendType==\"max\"):\n",
    "                    blendConf=np.max(results[k])\n",
    "                if(blendType==\"custom1\"):\n",
    "                    occurance = len(results[k])\n",
    "                    halfFoldsNr = round(math.ceil(len(train_data_list)/2))\n",
    "                    blendConf = np.max(results[k]) + ((occurance - halfFoldsNr)/10)\n",
    "                if(blendType==\"custom2\"):\n",
    "                    occurance = len(results[k])\n",
    "                    halfFoldsNr = round(math.ceil(len(train_data_list)/2))\n",
    "                    blendConf = np.mean(results[k]) + ((occurance - halfFoldsNr)/10)\n",
    "                tempDict[results.index[k]] = blendConf\n",
    "        dictList.append(tempDict)\n",
    "\n",
    "\n",
    "    # calculate where to insert \"new_individual\"\n",
    "    best5SubsAll=[]\n",
    "    best5ConfAll=[]\n",
    "    for i in range(len(dictList)):\n",
    "        best5Subs=sorted(dictList[i], key=dictList[i].get,reverse=True)[:5]\n",
    "        if len(best5Subs)<5:\n",
    "            elementsToAppend= 5-len(best5Subs)\n",
    "            for j in range(elementsToAppend):\n",
    "                best5Subs.append(best5Subs[0])\n",
    "        best5Conf=[dictList[i][best5Subs[0]], dictList[i][best5Subs[1]], dictList[i][best5Subs[2]],dictList[i][best5Subs[3]],dictList[i][best5Subs[4]]]\n",
    "        best5ConfAll.append(best5Conf)\n",
    "        best5SubsAll.append(best5Subs)\n",
    "    predictTopDecoded={}\n",
    "    \n",
    "    for i in range(len(best5SubsAll)):\n",
    "        predictTop = best5SubsAll[i]\n",
    "        topValues = best5ConfAll[i]\n",
    "        if (usePublic_new_individ == False):\n",
    "            if topValues[0] < new_individual_thres:\n",
    "                \n",
    "                tempList=['new_individual',predictTop[0],predictTop[1],predictTop[2],predictTop[3]]\n",
    "                predictTopDecoded[df.iloc[i]['image']] = tempList  \n",
    "                \n",
    "            elif topValues[1] < new_individual_thres:\n",
    "        \n",
    "                tempList=[predictTop[0],'new_individual',predictTop[1],predictTop[2],predictTop[3]]\n",
    "                predictTopDecoded[df.iloc[i]['image']] = tempList     \n",
    "                \n",
    "            elif topValues[2] < new_individual_thres:\n",
    "        \n",
    "                tempList=[predictTop[0],predictTop[1],'new_individual',predictTop[2],predictTop[3]]\n",
    "                predictTopDecoded[df.iloc[i]['image']] = tempList   \n",
    "                \n",
    "            elif topValues[3] < new_individual_thres:\n",
    "                \n",
    "                tempList=[predictTop[0],predictTop[1],predictTop[2],'new_individual',predictTop[3]]        \n",
    "                predictTopDecoded[df.iloc[i]['image']] = tempList  \n",
    "                \n",
    "            elif topValues[4] < new_individual_thres:\n",
    "        \n",
    "                tempList=[predictTop[0],predictTop[1],predictTop[2],predictTop[3],'new_individual']        \n",
    "                predictTopDecoded[df.iloc[i]['image']] = tempList         \n",
    "                \n",
    "            else:\n",
    "                predictTopDecoded[df.iloc[i]['image']] = predictTop  \n",
    "              \n",
    "#         if (usePublic_new_individ == True):\n",
    "#             if topValues[0] < new_individual_thres:\n",
    "#                 \n",
    "#                 tempList=['new_individual',predictTop[0],predictTop[1],predictTop[2],predictTop[3]]\n",
    "#                 predictTopDecoded[df.iloc[i]['image']] = tempList             \n",
    "#             else:\n",
    "#                 tempList=[predictTop[0],'new_individual',predictTop[1],predictTop[2],predictTop[3]]\n",
    "#                 predictTopDecoded[df.iloc[i]['image']] = tempList  \n",
    "\n",
    "    return predictTopDecoded\n",
    "    for x in tqdm(predictTopDecoded):\n",
    "        predictTopDecoded[x] = ' '.join(predictTopDecoded[x])\n",
    "    \n",
    "    predictions = pd.Series(predictTopDecoded).reset_index()\n",
    "    predictions.columns = ['image','class_id']\n",
    "    return predictions "
   ]
  },
  {
   "cell_type": "code",
   "execution_count": 19,
   "id": "dcdaafa8",
   "metadata": {
    "execution": {
     "iopub.execute_input": "2023-03-22T06:37:23.356820Z",
     "iopub.status.busy": "2023-03-22T06:37:23.355105Z",
     "iopub.status.idle": "2023-03-22T06:37:23.357413Z",
     "shell.execute_reply": "2023-03-22T06:37:23.357861Z",
     "shell.execute_reply.started": "2023-03-12T08:26:13.468730Z"
    },
    "papermill": {
     "duration": 2.679507,
     "end_time": "2023-03-22T06:37:23.358016",
     "exception": false,
     "start_time": "2023-03-22T06:37:20.678509",
     "status": "completed"
    },
    "tags": []
   },
   "outputs": [],
   "source": [
    "def BlendWithPublic(predictions):\n",
    "    public_predictions = pd.read_csv(PUBLIC_SUBMISSION_CSV_PATH)\n",
    "    #ids_without_backfin = np.load(IDS_WITHOUT_BACKFIN_PATH, allow_pickle=True)\n",
    "\n",
    "    ids2 = public_predictions[\"image\"][~public_predictions[\"image\"].isin(predictions[\"image\"])]\n",
    "\n",
    "    predictions = pd.concat(\n",
    "        [\n",
    "            #predictions[~(predictions[\"image\"].isin(ids_without_backfin))],\n",
    "            #public_predictions[public_predictions[\"image\"].isin(ids_without_backfin)],\n",
    "            public_predictions[public_predictions[\"image\"].isin(ids2)],\n",
    "        ]\n",
    "    )\n",
    "    predictions = predictions.drop_duplicates()\n",
    "\n",
    "    predictions.to_csv(SUBMISSION_CSV_PATH, index=False)    "
   ]
  },
  {
   "cell_type": "code",
   "execution_count": 20,
   "id": "f41c1581",
   "metadata": {
    "execution": {
     "iopub.execute_input": "2023-03-22T06:37:29.030076Z",
     "iopub.status.busy": "2023-03-22T06:37:29.029470Z",
     "iopub.status.idle": "2023-03-22T07:05:07.216115Z",
     "shell.execute_reply": "2023-03-22T07:05:07.215231Z",
     "shell.execute_reply.started": "2023-03-12T08:26:13.479438Z"
    },
    "papermill": {
     "duration": 1661.161078,
     "end_time": "2023-03-22T07:05:07.216271",
     "exception": false,
     "start_time": "2023-03-22T06:37:26.055193",
     "status": "completed"
    },
    "tags": []
   },
   "outputs": [],
   "source": [
    "SUBMISSION_CSV_PATH = \"submission.csv\"\n",
    "PUBLIC_SUBMISSION_CSV_PATH = \"../input/finsmetadata/submissionToMix.csv\"\n",
    "# IDS_WITHOUT_BACKFIN_PATH = \"../input/finsmetadata/ids_without_backfin.npy\"\n",
    "usePublic_new_individ = False\n",
    "predictions = GetSubmission([allTrainData],[test_cnn_predictions], [allTrainingLabels],neighbors=100,metric='cosine', new_individual_thres=0.65, blendType=\"max\")\n",
    "# BlendWithPublic(predictions)\n"
   ]
  },
  {
   "cell_type": "code",
   "execution_count": 21,
   "id": "f35d1350",
   "metadata": {
    "execution": {
     "iopub.execute_input": "2023-03-22T07:05:12.640360Z",
     "iopub.status.busy": "2023-03-22T07:05:12.630158Z",
     "iopub.status.idle": "2023-03-22T07:05:12.931722Z",
     "shell.execute_reply": "2023-03-22T07:05:12.931232Z",
     "shell.execute_reply.started": "2023-03-12T08:54:32.230570Z"
    },
    "papermill": {
     "duration": 3.063634,
     "end_time": "2023-03-22T07:05:12.931865",
     "exception": false,
     "start_time": "2023-03-22T07:05:09.868231",
     "status": "completed"
    },
    "tags": []
   },
   "outputs": [],
   "source": [
    "from copy import deepcopy\n",
    "predictions1 = deepcopy(predictions)\n",
    "# for x in tqdm(predictions1):\n",
    "#     predictions1[x] = ' '.join(str(predictions1[x]))"
   ]
  },
  {
   "cell_type": "code",
   "execution_count": null,
   "id": "fb1a65a4",
   "metadata": {
    "papermill": {
     "duration": 2.708717,
     "end_time": "2023-03-22T07:05:18.512491",
     "exception": false,
     "start_time": "2023-03-22T07:05:15.803774",
     "status": "completed"
    },
    "tags": []
   },
   "outputs": [],
   "source": []
  },
  {
   "cell_type": "code",
   "execution_count": 22,
   "id": "4957a045",
   "metadata": {
    "execution": {
     "iopub.execute_input": "2023-03-22T07:05:23.933251Z",
     "iopub.status.busy": "2023-03-22T07:05:23.920576Z",
     "iopub.status.idle": "2023-03-22T07:05:23.944210Z",
     "shell.execute_reply": "2023-03-22T07:05:23.943678Z",
     "shell.execute_reply.started": "2023-03-12T08:54:34.351611Z"
    },
    "papermill": {
     "duration": 2.729254,
     "end_time": "2023-03-22T07:05:23.944330",
     "exception": false,
     "start_time": "2023-03-22T07:05:21.215076",
     "status": "completed"
    },
    "tags": []
   },
   "outputs": [
    {
     "data": {
      "text/html": [
       "<div>\n",
       "<style scoped>\n",
       "    .dataframe tbody tr th:only-of-type {\n",
       "        vertical-align: middle;\n",
       "    }\n",
       "\n",
       "    .dataframe tbody tr th {\n",
       "        vertical-align: top;\n",
       "    }\n",
       "\n",
       "    .dataframe thead th {\n",
       "        text-align: right;\n",
       "    }\n",
       "</style>\n",
       "<table border=\"1\" class=\"dataframe\">\n",
       "  <thead>\n",
       "    <tr style=\"text-align: right;\">\n",
       "      <th></th>\n",
       "      <th>image</th>\n",
       "      <th>class_id</th>\n",
       "    </tr>\n",
       "  </thead>\n",
       "  <tbody>\n",
       "    <tr>\n",
       "      <th>0</th>\n",
       "      <td>mwiNS62kZXUEJARdf3rxCpI0VztLO1B7guKTDGMj.jpg</td>\n",
       "      <td>[new_individual, 3729, 1142, 1112, 1097]</td>\n",
       "    </tr>\n",
       "    <tr>\n",
       "      <th>1</th>\n",
       "      <td>Dvtu5QLrVFq0JxjlcgmK94n3SC68iAphHXoBfzYM.jpg</td>\n",
       "      <td>[new_individual, 627, 605, 1017, 509]</td>\n",
       "    </tr>\n",
       "    <tr>\n",
       "      <th>2</th>\n",
       "      <td>mldYZ9OiXh5P0ERHNcKLp78SbMtfkBx2rwJeszoa.jpg</td>\n",
       "      <td>[306, new_individual, 2797, 1315, 3289]</td>\n",
       "    </tr>\n",
       "    <tr>\n",
       "      <th>3</th>\n",
       "      <td>tZaCF4XK2hPLTlW8YRdAnMD5mfSxzBujwVpUJ7b0.jpg</td>\n",
       "      <td>[1287, 977, new_individual, 1239, 2644]</td>\n",
       "    </tr>\n",
       "    <tr>\n",
       "      <th>4</th>\n",
       "      <td>73gEZNzIV9SLcf14wkrTYUoHJOMuDetsvihP0mAq.jpg</td>\n",
       "      <td>[533, 558, 532, 1392, 1391]</td>\n",
       "    </tr>\n",
       "  </tbody>\n",
       "</table>\n",
       "</div>"
      ],
      "text/plain": [
       "                                          image  \\\n",
       "0  mwiNS62kZXUEJARdf3rxCpI0VztLO1B7guKTDGMj.jpg   \n",
       "1  Dvtu5QLrVFq0JxjlcgmK94n3SC68iAphHXoBfzYM.jpg   \n",
       "2  mldYZ9OiXh5P0ERHNcKLp78SbMtfkBx2rwJeszoa.jpg   \n",
       "3  tZaCF4XK2hPLTlW8YRdAnMD5mfSxzBujwVpUJ7b0.jpg   \n",
       "4  73gEZNzIV9SLcf14wkrTYUoHJOMuDetsvihP0mAq.jpg   \n",
       "\n",
       "                                   class_id  \n",
       "0  [new_individual, 3729, 1142, 1112, 1097]  \n",
       "1     [new_individual, 627, 605, 1017, 509]  \n",
       "2   [306, new_individual, 2797, 1315, 3289]  \n",
       "3   [1287, 977, new_individual, 1239, 2644]  \n",
       "4               [533, 558, 532, 1392, 1391]  "
      ]
     },
     "execution_count": 22,
     "metadata": {},
     "output_type": "execute_result"
    }
   ],
   "source": [
    "predictions_fin = pd.Series(predictions1).reset_index()\n",
    "predictions_fin.columns = ['image','class_id']\n",
    "predictions_fin.head()\n"
   ]
  },
  {
   "cell_type": "code",
   "execution_count": 23,
   "id": "c781e31e",
   "metadata": {
    "execution": {
     "iopub.execute_input": "2023-03-22T07:05:30.096002Z",
     "iopub.status.busy": "2023-03-22T07:05:30.095238Z",
     "iopub.status.idle": "2023-03-22T07:05:30.225402Z",
     "shell.execute_reply": "2023-03-22T07:05:30.224971Z",
     "shell.execute_reply.started": "2023-03-12T08:54:37.300667Z"
    },
    "papermill": {
     "duration": 3.007661,
     "end_time": "2023-03-22T07:05:30.225536",
     "exception": false,
     "start_time": "2023-03-22T07:05:27.217875",
     "status": "completed"
    },
    "tags": []
   },
   "outputs": [],
   "source": [
    "predictions_fin.to_csv(\"beda.csv\")"
   ]
  },
  {
   "cell_type": "code",
   "execution_count": null,
   "id": "572698d6",
   "metadata": {
    "papermill": {
     "duration": 2.663593,
     "end_time": "2023-03-22T07:05:35.583744",
     "exception": false,
     "start_time": "2023-03-22T07:05:32.920151",
     "status": "completed"
    },
    "tags": []
   },
   "outputs": [],
   "source": []
  }
 ],
 "metadata": {
  "kernelspec": {
   "display_name": "Python 3",
   "language": "python",
   "name": "python3"
  },
  "language_info": {
   "codemirror_mode": {
    "name": "ipython",
    "version": 3
   },
   "file_extension": ".py",
   "mimetype": "text/x-python",
   "name": "python",
   "nbconvert_exporter": "python",
   "pygments_lexer": "ipython3",
   "version": "3.7.12"
  },
  "papermill": {
   "default_parameters": {},
   "duration": 3188.899426,
   "end_time": "2023-03-22T07:05:40.482925",
   "environment_variables": {},
   "exception": null,
   "input_path": "__notebook__.ipynb",
   "output_path": "__notebook__.ipynb",
   "parameters": {},
   "start_time": "2023-03-22T06:12:31.583499",
   "version": "2.3.3"
  }
 },
 "nbformat": 4,
 "nbformat_minor": 5
}
