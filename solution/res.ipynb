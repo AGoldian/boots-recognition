{
 "cells": [
  {
   "cell_type": "code",
   "execution_count": 80,
   "metadata": {},
   "outputs": [],
   "source": [
    "import os\n",
    "import platform\n",
    "\n",
    "def creation_date(path_to_file):\n",
    "    \"\"\"\n",
    "    Try to get the date that a file was created, falling back to when it was\n",
    "    last modified if that isn't possible.\n",
    "    See http://stackoverflow.com/a/39501288/1709587 for explanation.\n",
    "    \"\"\"\n",
    "    if platform.system() == 'Windows':\n",
    "        return os.path.getctime(path_to_file)\n",
    "    else:\n",
    "        stat = os.stat(path_to_file)\n",
    "        try:\n",
    "            return stat.st_birthtime\n",
    "        except AttributeError:\n",
    "            # We're probably on Linux. No easy way to get creation dates here,\n",
    "            # so we'll settle for when its content was last modified.\n",
    "            return stat.st_mtime\n",
    "import pandas as pd\n",
    "classes = pd.read_csv(r\"train_mod.csv\")\n",
    "import glob\n",
    "list_of_id = []\n",
    "list_of_date = []\n",
    "list_of_names = []\n",
    "for file in glob.glob(r\"images\\images\\*.jpg\"):\n",
    "\n",
    "    file_name = file.split(\"\\\\\")[-1]\n",
    "    if len(classes[classes.image == file_name].class_id) !=0:\n",
    "        class_id = classes[classes.image == file_name].class_id.values[0]\n",
    "        number = creation_date(file)\n",
    "        list_of_id.append(class_id)\n",
    "        list_of_date.append(number)\n",
    "        list_of_names.append(file_name)"
   ]
  },
  {
   "cell_type": "code",
   "execution_count": null,
   "metadata": {},
   "outputs": [],
   "source": [
    "import pandas as pd\n",
    "\n",
    "pd.DataFrame({\"class_id\":list_of_id,\"image\":list_of_names, \"date\":list_of_date}).to_csv(\"mktime_train.csv\",index=False)"
   ]
  },
  {
   "cell_type": "code",
   "execution_count": null,
   "metadata": {},
   "outputs": [],
   "source": [
    "import os\n",
    "import platform\n",
    "\n",
    "def creation_date(path_to_file):\n",
    "    \"\"\"\n",
    "    Try to get the date that a file was created, falling back to when it was\n",
    "    last modified if that isn't possible.\n",
    "    See http://stackoverflow.com/a/39501288/1709587 for explanation.\n",
    "    \"\"\"\n",
    "    if platform.system() == 'Windows':\n",
    "        return os.path.getctime(path_to_file)\n",
    "    else:\n",
    "        stat = os.stat(path_to_file)\n",
    "        try:\n",
    "            return stat.st_birthtime\n",
    "        except AttributeError:\n",
    "            # We're probably on Linux. No easy way to get creation dates here,\n",
    "            # so we'll settle for when its content was last modified.\n",
    "            return stat.st_mtime\n",
    "import pandas as pd\n",
    "classes = pd.read_csv(r\"test_mod.csv\")\n",
    "import glob\n",
    "list_of_id = []\n",
    "list_of_date = []\n",
    "list_of_names = []\n",
    "for file in glob.glob(r\"images\\images\\*.jpg\"):\n",
    "\n",
    "    file_name = file.split(\"\\\\\")[-1]\n",
    "    if len(classes[classes.image == file_name].class_id) !=0:\n",
    "        class_id = classes[classes.image == file_name].class_id.values[0]\n",
    "        number = creation_date(file)\n",
    "        list_of_id.append(class_id)\n",
    "        list_of_date.append(number)\n",
    "        list_of_names.append(file_name)"
   ]
  },
  {
   "cell_type": "code",
   "execution_count": null,
   "metadata": {},
   "outputs": [],
   "source": [
    "import pandas as pd\n",
    "\n",
    "pd.DataFrame({\"class_id\":list_of_id,\"image\":list_of_names, \"date\":list_of_date}).to_csv(\"mktime_test.csv\",index=False)"
   ]
  },
  {
   "cell_type": "code",
   "execution_count": 78,
   "metadata": {},
   "outputs": [
    {
     "data": {
      "text/html": [
       "<div>\n",
       "<style scoped>\n",
       "    .dataframe tbody tr th:only-of-type {\n",
       "        vertical-align: middle;\n",
       "    }\n",
       "\n",
       "    .dataframe tbody tr th {\n",
       "        vertical-align: top;\n",
       "    }\n",
       "\n",
       "    .dataframe thead th {\n",
       "        text-align: right;\n",
       "    }\n",
       "</style>\n",
       "<table border=\"1\" class=\"dataframe\">\n",
       "  <thead>\n",
       "    <tr style=\"text-align: right;\">\n",
       "      <th></th>\n",
       "      <th>class_id</th>\n",
       "      <th>image</th>\n",
       "    </tr>\n",
       "  </thead>\n",
       "  <tbody>\n",
       "    <tr>\n",
       "      <th>2</th>\n",
       "      <td>310</td>\n",
       "      <td>mldYZ9OiXh5P0ERHNcKLp78SbMtfkBx2rwJeszoa.jpg</td>\n",
       "    </tr>\n",
       "    <tr>\n",
       "      <th>3</th>\n",
       "      <td>1300</td>\n",
       "      <td>tZaCF4XK2hPLTlW8YRdAnMD5mfSxzBujwVpUJ7b0.jpg</td>\n",
       "    </tr>\n",
       "    <tr>\n",
       "      <th>16</th>\n",
       "      <td>3493</td>\n",
       "      <td>eClpO81ZfSDBTaUmR0hNt7zJvc5Xkw6MP9sIyH4x.jpg</td>\n",
       "    </tr>\n",
       "    <tr>\n",
       "      <th>17</th>\n",
       "      <td>1690</td>\n",
       "      <td>k3ag2D5WoqSPUj9mJuGLv81bYyCFRzds04iBINx6.jpg</td>\n",
       "    </tr>\n",
       "    <tr>\n",
       "      <th>21</th>\n",
       "      <td>1179</td>\n",
       "      <td>sU1MpVZRtlvoOiKbh5keCA0SFDHXaGgmqnJWB8rQ.jpg</td>\n",
       "    </tr>\n",
       "    <tr>\n",
       "      <th>...</th>\n",
       "      <td>...</td>\n",
       "      <td>...</td>\n",
       "    </tr>\n",
       "    <tr>\n",
       "      <th>31692</th>\n",
       "      <td>939</td>\n",
       "      <td>G1EvP9CDLi3Jhfkp7eQ5qU6RVsjH0ySdzBo4c2Zn.jpg</td>\n",
       "    </tr>\n",
       "    <tr>\n",
       "      <th>31694</th>\n",
       "      <td>2873</td>\n",
       "      <td>0f3PCimQERBF4O7zct9gqAUKZyIadoXT8rWvVNLn.jpg</td>\n",
       "    </tr>\n",
       "    <tr>\n",
       "      <th>31703</th>\n",
       "      <td>1690</td>\n",
       "      <td>GxJHBSUrMf4d7ImaC0PZNE3cuLX1AsgtzkKiDQbT.jpg</td>\n",
       "    </tr>\n",
       "    <tr>\n",
       "      <th>31707</th>\n",
       "      <td>2642</td>\n",
       "      <td>DRWHCogThIfrZnU6K2VMQcayPu54jFObd1emtNqG.jpg</td>\n",
       "    </tr>\n",
       "    <tr>\n",
       "      <th>31712</th>\n",
       "      <td>1211</td>\n",
       "      <td>WpmqoDfeXLOnI8gvY9TJSCxH6M02AEZbVc1lPQBj.jpg</td>\n",
       "    </tr>\n",
       "  </tbody>\n",
       "</table>\n",
       "<p>5195 rows × 2 columns</p>\n",
       "</div>"
      ],
      "text/plain": [
       "       class_id                                         image\n",
       "2           310  mldYZ9OiXh5P0ERHNcKLp78SbMtfkBx2rwJeszoa.jpg\n",
       "3          1300  tZaCF4XK2hPLTlW8YRdAnMD5mfSxzBujwVpUJ7b0.jpg\n",
       "16         3493  eClpO81ZfSDBTaUmR0hNt7zJvc5Xkw6MP9sIyH4x.jpg\n",
       "17         1690  k3ag2D5WoqSPUj9mJuGLv81bYyCFRzds04iBINx6.jpg\n",
       "21         1179  sU1MpVZRtlvoOiKbh5keCA0SFDHXaGgmqnJWB8rQ.jpg\n",
       "...         ...                                           ...\n",
       "31692       939  G1EvP9CDLi3Jhfkp7eQ5qU6RVsjH0ySdzBo4c2Zn.jpg\n",
       "31694      2873  0f3PCimQERBF4O7zct9gqAUKZyIadoXT8rWvVNLn.jpg\n",
       "31703      1690  GxJHBSUrMf4d7ImaC0PZNE3cuLX1AsgtzkKiDQbT.jpg\n",
       "31707      2642  DRWHCogThIfrZnU6K2VMQcayPu54jFObd1emtNqG.jpg\n",
       "31712      1211  WpmqoDfeXLOnI8gvY9TJSCxH6M02AEZbVc1lPQBj.jpg\n",
       "\n",
       "[5195 rows x 2 columns]"
      ]
     },
     "execution_count": 78,
     "metadata": {},
     "output_type": "execute_result"
    }
   ],
   "source": [
    "classes_test = pd.read_csv(r\"test_mod_wdup_plus_avg_32.csv\")\n",
    "classes_test[classes_test.class_id != -1]"
   ]
  },
  {
   "cell_type": "code",
   "execution_count": 81,
   "metadata": {},
   "outputs": [],
   "source": [
    "classes_test = pd.read_csv(r\"test_mod_wdup_plus_avg_32.csv\")\n",
    "classes_test = classes_test[classes_test.class_id != -1]\n",
    "import glob\n",
    "list_of_id_test = []\n",
    "list_of_date_test = []\n",
    "list_of_filename_test = []\n",
    "for file in glob.glob(r\"images\\images\\*.jpg\"):\n",
    "    file_name = file.split(\"\\\\\")[-1]\n",
    "    if len(classes_test[classes_test.image == file_name].class_id) !=0:\n",
    "        class_id = classes_test[classes_test.image == file_name].class_id.values[0]\n",
    "        number = creation_date(file)\n",
    "        list_of_id_test.append(class_id)\n",
    "        list_of_date_test.append(number)\n",
    "        list_of_filename_test.append(file_name)"
   ]
  },
  {
   "cell_type": "code",
   "execution_count": 93,
   "metadata": {},
   "outputs": [
    {
     "data": {
      "application/vnd.plotly.v1+json": {
       "config": {
        "plotlyServerURL": "https://plot.ly"
       },
       "data": [
        {
         "marker": {
          "color": "red"
         },
         "mode": "markers",
         "type": "scatter",
         "x": [
          1677557442,
          1677558150,
          1677557426,
          1677557906,
          1677557364,
          1677557802,
          1677557170,
          1677558182,
          1677558180,
          1677557390,
          1677557722,
          1677558112,
          1677557800,
          1677557176,
          1677557876,
          1677557324,
          1677558198,
          1677557988,
          1677557452,
          1677557836,
          1677557880,
          1677558104,
          1677557742,
          1677557990,
          1677557782,
          1677557246,
          1677557322,
          1677557402,
          1677557490,
          1677557420,
          1677557796,
          1677558028,
          1677557958,
          1677557738,
          1677557902,
          1677557510,
          1677557272,
          1677558054,
          1677557792,
          1677557804,
          1677557864,
          1677557950,
          1677557778,
          1677557528,
          1677557198,
          1677557606,
          1677558192,
          1677557562,
          1677557388,
          1677558056,
          1677558136,
          1677557758,
          1677558068,
          1677557438,
          1677557630,
          1677558034,
          1677557962,
          1677557410,
          1677558144,
          1677558090,
          1677557924,
          1677557870,
          1677558032,
          1677557632,
          1677557338,
          1677557202,
          1677557384,
          1677557292,
          1677557872,
          1677557552,
          1677558030,
          1677558082,
          1677557238,
          1677557984,
          1677557540,
          1677557874,
          1677557414,
          1677557516,
          1677557748,
          1677557186,
          1677557336,
          1677557972,
          1677557320,
          1677557354,
          1677557650,
          1677557928,
          1677557564,
          1677557892,
          1677557394,
          1677557248,
          1677557608,
          1677557316,
          1677557236,
          1677557728,
          1677558006,
          1677557678,
          1677557480,
          1677557664,
          1677557454,
          1677558002,
          1677557884,
          1677557994,
          1677557914,
          1677557304,
          1677557392,
          1677557168,
          1677557662,
          1677557522,
          1677557570,
          1677557934,
          1677557200,
          1677557866,
          1677557446,
          1677557666,
          1677557472,
          1677558022,
          1677558184,
          1677558142,
          1677558174,
          1677557918,
          1677557542,
          1677557214,
          1677557476,
          1677558196,
          1677557464,
          1677557240,
          1677557174,
          1677557858,
          1677557482,
          1677558016,
          1677557310,
          1677557960,
          1677557584,
          1677557684,
          1677557352,
          1677557366,
          1677557538,
          1677557256,
          1677557604,
          1677558152,
          1677557492,
          1677557682,
          1677557232,
          1677557430,
          1677557566,
          1677557190,
          1677558074,
          1677558020,
          1677557242,
          1677557536,
          1677557616,
          1677558042,
          1677557730,
          1677557852,
          1677558086,
          1677558072,
          1677557634,
          1677557998,
          1677557178,
          1677557788,
          1677558130,
          1677557808,
          1677557378,
          1677557770,
          1677558162,
          1677557710,
          1677557372,
          1677558140,
          1677557224,
          1677557222,
          1677557534,
          1677557448,
          1677557250,
          1677558008,
          1677557946,
          1677557980,
          1677557956,
          1677557596,
          1677557776,
          1677557368,
          1677557342,
          1677557436,
          1677557826,
          1677557518,
          1677557382,
          1677557274,
          1677557614,
          1677557270,
          1677557890,
          1677557964,
          1677557612,
          1677557468,
          1677557732,
          1677558116,
          1677557708,
          1677558070,
          1677557374,
          1677557396,
          1677558102,
          1677557356,
          1677557216,
          1677557418,
          1677557348,
          1677557568,
          1677557780,
          1677557450,
          1677557824,
          1677557798,
          1677557234,
          1677558084,
          1677557610,
          1677558000,
          1677557180,
          1677558064,
          1677557888,
          1677557704,
          1677557644,
          1677557560,
          1677557302,
          1677557816,
          1677557940,
          1677557700,
          1677557278,
          1677557582,
          1677557976,
          1677557460,
          1677557598,
          1677557734,
          1677557720,
          1677557936,
          1677557494,
          1677557462,
          1677558110,
          1677557952,
          1677557942,
          1677557280,
          1677557548,
          1677557424,
          1677557672,
          1677557886,
          1677557212,
          1677557478,
          1677557288,
          1677557196,
          1677557244,
          1677557986,
          1677557938,
          1677557978,
          1677557754,
          1677558018,
          1677557268,
          1677558040,
          1677557314,
          1677557230,
          1677557968,
          1677557694,
          1677557184,
          1677557618,
          1677557350,
          1677557622,
          1677557688,
          1677558046,
          1677557546,
          1677557904,
          1677557416,
          1677557312,
          1677557296,
          1677557526,
          1677558120,
          1677557930,
          1677557850,
          1677557428,
          1677558176,
          1677558158,
          1677557376,
          1677557898,
          1677557586,
          1677557822,
          1677557398,
          1677557702,
          1677557298,
          1677557228,
          1677558124,
          1677557466,
          1677557444,
          1677557744,
          1677558096,
          1677558138,
          1677557690,
          1677557172,
          1677557794,
          1677557284,
          1677557706,
          1677557318,
          1677557572,
          1677557868,
          1677557286,
          1677558118,
          1677557578,
          1677557600,
          1677557386,
          1677557590,
          1677557790,
          1677557912,
          1677557642,
          1677557254,
          1677558132,
          1677558160,
          1677557628,
          1677557210,
          1677557408,
          1677557592,
          1677557498,
          1677557486,
          1677557532,
          1677557406,
          1677557670,
          1677557846,
          1677557556,
          1677558194,
          1677557926,
          1677557658,
          1677558012,
          1677557974,
          1677557646,
          1677557346,
          1677557900,
          1677557504,
          1677557648,
          1677557680,
          1677557896,
          1677557260,
          1677557344,
          1677557654,
          1677557948,
          1677557996,
          1677557412,
          1677557806,
          1677557784,
          1677558128,
          1677558114,
          1677557484,
          1677557954,
          1677557520,
          1677558092,
          1677557854,
          1677558048,
          1677557188,
          1677557264,
          1677557992,
          1677558026,
          1677557620,
          1677557308,
          1677557488,
          1677557474,
          1677558024,
          1677557204,
          1677558172,
          1677557908,
          1677557862,
          1677557434,
          1677558148,
          1677557746,
          1677557676,
          1677557674,
          1677557640,
          1677557330,
          1677557334,
          1677557422,
          1677557856,
          1677557290,
          1677557340,
          1677557638,
          1677557594,
          1677557496,
          1677557262,
          1677557844,
          1677558038,
          1677557432,
          1677557456,
          1677557502,
          1677557820,
          1677557362,
          1677557300,
          1677557266,
          1677557470,
          1677557226,
          1677557922,
          1677557966,
          1677558050,
          1677557660,
          1677557326,
          1677557276,
          1677557218,
          1677558052,
          1677557182,
          1677558168,
          1677558078,
          1677558080,
          1677557440,
          1677557558,
          1677558178,
          1677557812,
          1677557786,
          1677557696,
          1677558154,
          1677558076,
          1677557774,
          1677557360,
          1677557192,
          1677557726,
          1677557944,
          1677557814,
          1677557860,
          1677558126,
          1677558146,
          1677558004,
          1677557932,
          1677557328,
          1677557740,
          1677557878,
          1677557220,
          1677557544,
          1677557370,
          1677557848,
          1677557712,
          1677557882,
          1677557282,
          1677557818,
          1677558058,
          1677558094,
          1677557500,
          1677557458,
          1677557920,
          1677558106,
          1677558066,
          1677557576,
          1677558200,
          1677558190,
          1677557810,
          1677557380,
          1677558036,
          1677557970,
          1677557400,
          1677558088,
          1677558108,
          1677558188,
          1677558186,
          1677557588,
          1677557916,
          1677557580,
          1677557838,
          1677557624,
          1677557828,
          1677557258,
          1677558044,
          1677557692,
          1677557768,
          1677557574,
          1677557524,
          1677557910,
          1677558170,
          1677557358,
          1677558100,
          1677557512,
          1677557550,
          1677558134,
          1677557834,
          1677558156,
          1677557506,
          1677557772,
          1677557698,
          1677557208,
          1677557652,
          1677557626,
          1677557294,
          1677557636,
          1677557514,
          1677557404,
          1677557306,
          1677557530,
          1677558062,
          1677558122,
          1677557832,
          1677557668,
          1677558164,
          1677558060,
          1677558202
         ],
         "y": [
          140,
          418,
          127,
          333,
          19,
          298,
          9,
          429,
          167,
          104,
          272,
          400,
          283,
          14,
          321,
          84,
          435,
          113,
          146,
          210,
          255,
          397,
          280,
          5,
          240,
          45,
          81,
          4,
          132,
          116,
          296,
          368,
          4,
          276,
          331,
          175,
          57,
          41,
          283,
          298,
          316,
          37,
          288,
          182,
          27,
          220,
          434,
          200,
          101,
          41,
          92,
          285,
          19,
          138,
          210,
          367,
          348,
          9,
          416,
          394,
          337,
          319,
          371,
          210,
          86,
          30,
          97,
          4,
          320,
          194,
          71,
          391,
          43,
          88,
          190,
          321,
          112,
          178,
          255,
          20,
          86,
          74,
          32,
          19,
          212,
          340,
          201,
          328,
          103,
          45,
          222,
          48,
          42,
          274,
          363,
          251,
          145,
          248,
          147,
          361,
          255,
          358,
          37,
          73,
          21,
          0,
          246,
          181,
          207,
          30,
          28,
          317,
          124,
          248,
          156,
          67,
          431,
          37,
          146,
          74,
          191,
          34,
          156,
          145,
          154,
          43,
          11,
          311,
          145,
          365,
          78,
          347,
          211,
          255,
          90,
          95,
          189,
          49,
          219,
          419,
          165,
          254,
          38,
          128,
          202,
          22,
          387,
          367,
          43,
          187,
          228,
          377,
          275,
          282,
          392,
          386,
          236,
          360,
          15,
          292,
          408,
          300,
          96,
          260,
          423,
          269,
          88,
          414,
          16,
          19,
          186,
          124,
          4,
          46,
          112,
          4,
          4,
          217,
          232,
          5,
          86,
          136,
          307,
          179,
          98,
          59,
          227,
          57,
          326,
          346,
          225,
          145,
          211,
          401,
          266,
          385,
          48,
          107,
          372,
          92,
          36,
          115,
          19,
          204,
          240,
          146,
          307,
          297,
          39,
          391,
          224,
          360,
          17,
          382,
          324,
          263,
          240,
          197,
          72,
          303,
          343,
          210,
          62,
          211,
          355,
          145,
          217,
          211,
          270,
          342,
          167,
          153,
          399,
          345,
          46,
          62,
          145,
          120,
          211,
          255,
          33,
          159,
          66,
          25,
          44,
          88,
          88,
          355,
          284,
          367,
          55,
          376,
          48,
          38,
          351,
          260,
          5,
          229,
          5,
          232,
          256,
          378,
          147,
          332,
          113,
          48,
          41,
          182,
          403,
          333,
          212,
          127,
          427,
          421,
          96,
          330,
          211,
          307,
          108,
          262,
          16,
          16,
          14,
          155,
          141,
          281,
          396,
          412,
          257,
          10,
          295,
          65,
          264,
          80,
          208,
          318,
          4,
          403,
          210,
          218,
          99,
          212,
          294,
          334,
          240,
          48,
          410,
          422,
          233,
          30,
          9,
          213,
          132,
          163,
          185,
          4,
          211,
          310,
          195,
          145,
          339,
          244,
          46,
          74,
          243,
          87,
          226,
          124,
          211,
          252,
          329,
          51,
          86,
          237,
          112,
          359,
          111,
          300,
          290,
          408,
          400,
          161,
          16,
          181,
          395,
          311,
          379,
          4,
          41,
          90,
          101,
          230,
          74,
          145,
          156,
          67,
          31,
          426,
          333,
          314,
          133,
          167,
          283,
          250,
          211,
          238,
          3,
          86,
          119,
          311,
          67,
          86,
          238,
          215,
          169,
          4,
          310,
          373,
          130,
          145,
          172,
          306,
          4,
          71,
          54,
          156,
          16,
          337,
          26,
          379,
          245,
          85,
          16,
          2,
          380,
          18,
          423,
          390,
          37,
          139,
          196,
          167,
          301,
          291,
          210,
          420,
          389,
          232,
          16,
          23,
          274,
          344,
          301,
          313,
          406,
          417,
          362,
          30,
          85,
          276,
          322,
          37,
          191,
          16,
          310,
          269,
          255,
          63,
          305,
          381,
          39,
          170,
          150,
          336,
          398,
          382,
          210,
          437,
          433,
          300,
          98,
          373,
          55,
          4,
          393,
          398,
          132,
          432,
          212,
          37,
          210,
          249,
          233,
          210,
          49,
          377,
          258,
          206,
          210,
          182,
          334,
          424,
          16,
          372,
          177,
          192,
          92,
          210,
          421,
          174,
          278,
          210,
          30,
          237,
          233,
          4,
          237,
          177,
          4,
          73,
          184,
          46,
          14,
          210,
          211,
          423,
          46,
          437
         ]
        },
        {
         "marker": {
          "color": "blue"
         },
         "mode": "markers",
         "type": "scatter",
         "x": [
          1677557854,
          1677557584,
          1677557590,
          1677557820,
          1677557676,
          1677557682,
          1677557936,
          1677557304,
          1677557856,
          1677557444,
          1677557826,
          1677557488,
          1677557848,
          1677557624,
          1677557588,
          1677557760,
          1677557358,
          1677557812,
          1677557278,
          1677557844,
          1677557886,
          1677557362,
          1677557548,
          1677557586,
          1677557706,
          1677557770,
          1677557416,
          1677557698,
          1677557834,
          1677557846,
          1677557426,
          1677557626,
          1677557824,
          1677557828,
          1677557836,
          1677557672,
          1677557630,
          1677557958,
          1677557458,
          1677557628,
          1677557460,
          1677557176,
          1677557372,
          1677557872,
          1677557768,
          1677557780,
          1677557360,
          1677557574,
          1677557222,
          1677557576,
          1677557346
         ],
         "y": [
          311,
          211,
          212,
          303,
          211,
          2777,
          88,
          73,
          311,
          141,
          307,
          164,
          310,
          233,
          212,
          206,
          16,
          300,
          61,
          310,
          255,
          16,
          2060,
          211,
          264,
          206,
          114,
          210,
          210,
          310,
          473,
          233,
          307,
          210,
          210,
          211,
          233,
          3,
          145,
          233,
          145,
          12,
          48,
          321,
          206,
          240,
          16,
          210,
          16,
          210,
          88
         ]
        }
       ],
       "layout": {
        "template": {
         "data": {
          "bar": [
           {
            "error_x": {
             "color": "#2a3f5f"
            },
            "error_y": {
             "color": "#2a3f5f"
            },
            "marker": {
             "line": {
              "color": "#E5ECF6",
              "width": 0.5
             },
             "pattern": {
              "fillmode": "overlay",
              "size": 10,
              "solidity": 0.2
             }
            },
            "type": "bar"
           }
          ],
          "barpolar": [
           {
            "marker": {
             "line": {
              "color": "#E5ECF6",
              "width": 0.5
             },
             "pattern": {
              "fillmode": "overlay",
              "size": 10,
              "solidity": 0.2
             }
            },
            "type": "barpolar"
           }
          ],
          "carpet": [
           {
            "aaxis": {
             "endlinecolor": "#2a3f5f",
             "gridcolor": "white",
             "linecolor": "white",
             "minorgridcolor": "white",
             "startlinecolor": "#2a3f5f"
            },
            "baxis": {
             "endlinecolor": "#2a3f5f",
             "gridcolor": "white",
             "linecolor": "white",
             "minorgridcolor": "white",
             "startlinecolor": "#2a3f5f"
            },
            "type": "carpet"
           }
          ],
          "choropleth": [
           {
            "colorbar": {
             "outlinewidth": 0,
             "ticks": ""
            },
            "type": "choropleth"
           }
          ],
          "contour": [
           {
            "colorbar": {
             "outlinewidth": 0,
             "ticks": ""
            },
            "colorscale": [
             [
              0,
              "#0d0887"
             ],
             [
              0.1111111111111111,
              "#46039f"
             ],
             [
              0.2222222222222222,
              "#7201a8"
             ],
             [
              0.3333333333333333,
              "#9c179e"
             ],
             [
              0.4444444444444444,
              "#bd3786"
             ],
             [
              0.5555555555555556,
              "#d8576b"
             ],
             [
              0.6666666666666666,
              "#ed7953"
             ],
             [
              0.7777777777777778,
              "#fb9f3a"
             ],
             [
              0.8888888888888888,
              "#fdca26"
             ],
             [
              1,
              "#f0f921"
             ]
            ],
            "type": "contour"
           }
          ],
          "contourcarpet": [
           {
            "colorbar": {
             "outlinewidth": 0,
             "ticks": ""
            },
            "type": "contourcarpet"
           }
          ],
          "heatmap": [
           {
            "colorbar": {
             "outlinewidth": 0,
             "ticks": ""
            },
            "colorscale": [
             [
              0,
              "#0d0887"
             ],
             [
              0.1111111111111111,
              "#46039f"
             ],
             [
              0.2222222222222222,
              "#7201a8"
             ],
             [
              0.3333333333333333,
              "#9c179e"
             ],
             [
              0.4444444444444444,
              "#bd3786"
             ],
             [
              0.5555555555555556,
              "#d8576b"
             ],
             [
              0.6666666666666666,
              "#ed7953"
             ],
             [
              0.7777777777777778,
              "#fb9f3a"
             ],
             [
              0.8888888888888888,
              "#fdca26"
             ],
             [
              1,
              "#f0f921"
             ]
            ],
            "type": "heatmap"
           }
          ],
          "heatmapgl": [
           {
            "colorbar": {
             "outlinewidth": 0,
             "ticks": ""
            },
            "colorscale": [
             [
              0,
              "#0d0887"
             ],
             [
              0.1111111111111111,
              "#46039f"
             ],
             [
              0.2222222222222222,
              "#7201a8"
             ],
             [
              0.3333333333333333,
              "#9c179e"
             ],
             [
              0.4444444444444444,
              "#bd3786"
             ],
             [
              0.5555555555555556,
              "#d8576b"
             ],
             [
              0.6666666666666666,
              "#ed7953"
             ],
             [
              0.7777777777777778,
              "#fb9f3a"
             ],
             [
              0.8888888888888888,
              "#fdca26"
             ],
             [
              1,
              "#f0f921"
             ]
            ],
            "type": "heatmapgl"
           }
          ],
          "histogram": [
           {
            "marker": {
             "pattern": {
              "fillmode": "overlay",
              "size": 10,
              "solidity": 0.2
             }
            },
            "type": "histogram"
           }
          ],
          "histogram2d": [
           {
            "colorbar": {
             "outlinewidth": 0,
             "ticks": ""
            },
            "colorscale": [
             [
              0,
              "#0d0887"
             ],
             [
              0.1111111111111111,
              "#46039f"
             ],
             [
              0.2222222222222222,
              "#7201a8"
             ],
             [
              0.3333333333333333,
              "#9c179e"
             ],
             [
              0.4444444444444444,
              "#bd3786"
             ],
             [
              0.5555555555555556,
              "#d8576b"
             ],
             [
              0.6666666666666666,
              "#ed7953"
             ],
             [
              0.7777777777777778,
              "#fb9f3a"
             ],
             [
              0.8888888888888888,
              "#fdca26"
             ],
             [
              1,
              "#f0f921"
             ]
            ],
            "type": "histogram2d"
           }
          ],
          "histogram2dcontour": [
           {
            "colorbar": {
             "outlinewidth": 0,
             "ticks": ""
            },
            "colorscale": [
             [
              0,
              "#0d0887"
             ],
             [
              0.1111111111111111,
              "#46039f"
             ],
             [
              0.2222222222222222,
              "#7201a8"
             ],
             [
              0.3333333333333333,
              "#9c179e"
             ],
             [
              0.4444444444444444,
              "#bd3786"
             ],
             [
              0.5555555555555556,
              "#d8576b"
             ],
             [
              0.6666666666666666,
              "#ed7953"
             ],
             [
              0.7777777777777778,
              "#fb9f3a"
             ],
             [
              0.8888888888888888,
              "#fdca26"
             ],
             [
              1,
              "#f0f921"
             ]
            ],
            "type": "histogram2dcontour"
           }
          ],
          "mesh3d": [
           {
            "colorbar": {
             "outlinewidth": 0,
             "ticks": ""
            },
            "type": "mesh3d"
           }
          ],
          "parcoords": [
           {
            "line": {
             "colorbar": {
              "outlinewidth": 0,
              "ticks": ""
             }
            },
            "type": "parcoords"
           }
          ],
          "pie": [
           {
            "automargin": true,
            "type": "pie"
           }
          ],
          "scatter": [
           {
            "marker": {
             "colorbar": {
              "outlinewidth": 0,
              "ticks": ""
             }
            },
            "type": "scatter"
           }
          ],
          "scatter3d": [
           {
            "line": {
             "colorbar": {
              "outlinewidth": 0,
              "ticks": ""
             }
            },
            "marker": {
             "colorbar": {
              "outlinewidth": 0,
              "ticks": ""
             }
            },
            "type": "scatter3d"
           }
          ],
          "scattercarpet": [
           {
            "marker": {
             "colorbar": {
              "outlinewidth": 0,
              "ticks": ""
             }
            },
            "type": "scattercarpet"
           }
          ],
          "scattergeo": [
           {
            "marker": {
             "colorbar": {
              "outlinewidth": 0,
              "ticks": ""
             }
            },
            "type": "scattergeo"
           }
          ],
          "scattergl": [
           {
            "marker": {
             "colorbar": {
              "outlinewidth": 0,
              "ticks": ""
             }
            },
            "type": "scattergl"
           }
          ],
          "scattermapbox": [
           {
            "marker": {
             "colorbar": {
              "outlinewidth": 0,
              "ticks": ""
             }
            },
            "type": "scattermapbox"
           }
          ],
          "scatterpolar": [
           {
            "marker": {
             "colorbar": {
              "outlinewidth": 0,
              "ticks": ""
             }
            },
            "type": "scatterpolar"
           }
          ],
          "scatterpolargl": [
           {
            "marker": {
             "colorbar": {
              "outlinewidth": 0,
              "ticks": ""
             }
            },
            "type": "scatterpolargl"
           }
          ],
          "scatterternary": [
           {
            "marker": {
             "colorbar": {
              "outlinewidth": 0,
              "ticks": ""
             }
            },
            "type": "scatterternary"
           }
          ],
          "surface": [
           {
            "colorbar": {
             "outlinewidth": 0,
             "ticks": ""
            },
            "colorscale": [
             [
              0,
              "#0d0887"
             ],
             [
              0.1111111111111111,
              "#46039f"
             ],
             [
              0.2222222222222222,
              "#7201a8"
             ],
             [
              0.3333333333333333,
              "#9c179e"
             ],
             [
              0.4444444444444444,
              "#bd3786"
             ],
             [
              0.5555555555555556,
              "#d8576b"
             ],
             [
              0.6666666666666666,
              "#ed7953"
             ],
             [
              0.7777777777777778,
              "#fb9f3a"
             ],
             [
              0.8888888888888888,
              "#fdca26"
             ],
             [
              1,
              "#f0f921"
             ]
            ],
            "type": "surface"
           }
          ],
          "table": [
           {
            "cells": {
             "fill": {
              "color": "#EBF0F8"
             },
             "line": {
              "color": "white"
             }
            },
            "header": {
             "fill": {
              "color": "#C8D4E3"
             },
             "line": {
              "color": "white"
             }
            },
            "type": "table"
           }
          ]
         },
         "layout": {
          "annotationdefaults": {
           "arrowcolor": "#2a3f5f",
           "arrowhead": 0,
           "arrowwidth": 1
          },
          "autotypenumbers": "strict",
          "coloraxis": {
           "colorbar": {
            "outlinewidth": 0,
            "ticks": ""
           }
          },
          "colorscale": {
           "diverging": [
            [
             0,
             "#8e0152"
            ],
            [
             0.1,
             "#c51b7d"
            ],
            [
             0.2,
             "#de77ae"
            ],
            [
             0.3,
             "#f1b6da"
            ],
            [
             0.4,
             "#fde0ef"
            ],
            [
             0.5,
             "#f7f7f7"
            ],
            [
             0.6,
             "#e6f5d0"
            ],
            [
             0.7,
             "#b8e186"
            ],
            [
             0.8,
             "#7fbc41"
            ],
            [
             0.9,
             "#4d9221"
            ],
            [
             1,
             "#276419"
            ]
           ],
           "sequential": [
            [
             0,
             "#0d0887"
            ],
            [
             0.1111111111111111,
             "#46039f"
            ],
            [
             0.2222222222222222,
             "#7201a8"
            ],
            [
             0.3333333333333333,
             "#9c179e"
            ],
            [
             0.4444444444444444,
             "#bd3786"
            ],
            [
             0.5555555555555556,
             "#d8576b"
            ],
            [
             0.6666666666666666,
             "#ed7953"
            ],
            [
             0.7777777777777778,
             "#fb9f3a"
            ],
            [
             0.8888888888888888,
             "#fdca26"
            ],
            [
             1,
             "#f0f921"
            ]
           ],
           "sequentialminus": [
            [
             0,
             "#0d0887"
            ],
            [
             0.1111111111111111,
             "#46039f"
            ],
            [
             0.2222222222222222,
             "#7201a8"
            ],
            [
             0.3333333333333333,
             "#9c179e"
            ],
            [
             0.4444444444444444,
             "#bd3786"
            ],
            [
             0.5555555555555556,
             "#d8576b"
            ],
            [
             0.6666666666666666,
             "#ed7953"
            ],
            [
             0.7777777777777778,
             "#fb9f3a"
            ],
            [
             0.8888888888888888,
             "#fdca26"
            ],
            [
             1,
             "#f0f921"
            ]
           ]
          },
          "colorway": [
           "#636efa",
           "#EF553B",
           "#00cc96",
           "#ab63fa",
           "#FFA15A",
           "#19d3f3",
           "#FF6692",
           "#B6E880",
           "#FF97FF",
           "#FECB52"
          ],
          "font": {
           "color": "#2a3f5f"
          },
          "geo": {
           "bgcolor": "white",
           "lakecolor": "white",
           "landcolor": "#E5ECF6",
           "showlakes": true,
           "showland": true,
           "subunitcolor": "white"
          },
          "hoverlabel": {
           "align": "left"
          },
          "hovermode": "closest",
          "mapbox": {
           "style": "light"
          },
          "paper_bgcolor": "white",
          "plot_bgcolor": "#E5ECF6",
          "polar": {
           "angularaxis": {
            "gridcolor": "white",
            "linecolor": "white",
            "ticks": ""
           },
           "bgcolor": "#E5ECF6",
           "radialaxis": {
            "gridcolor": "white",
            "linecolor": "white",
            "ticks": ""
           }
          },
          "scene": {
           "xaxis": {
            "backgroundcolor": "#E5ECF6",
            "gridcolor": "white",
            "gridwidth": 2,
            "linecolor": "white",
            "showbackground": true,
            "ticks": "",
            "zerolinecolor": "white"
           },
           "yaxis": {
            "backgroundcolor": "#E5ECF6",
            "gridcolor": "white",
            "gridwidth": 2,
            "linecolor": "white",
            "showbackground": true,
            "ticks": "",
            "zerolinecolor": "white"
           },
           "zaxis": {
            "backgroundcolor": "#E5ECF6",
            "gridcolor": "white",
            "gridwidth": 2,
            "linecolor": "white",
            "showbackground": true,
            "ticks": "",
            "zerolinecolor": "white"
           }
          },
          "shapedefaults": {
           "line": {
            "color": "#2a3f5f"
           }
          },
          "ternary": {
           "aaxis": {
            "gridcolor": "white",
            "linecolor": "white",
            "ticks": ""
           },
           "baxis": {
            "gridcolor": "white",
            "linecolor": "white",
            "ticks": ""
           },
           "bgcolor": "#E5ECF6",
           "caxis": {
            "gridcolor": "white",
            "linecolor": "white",
            "ticks": ""
           }
          },
          "title": {
           "x": 0.05
          },
          "xaxis": {
           "automargin": true,
           "gridcolor": "white",
           "linecolor": "white",
           "ticks": "",
           "title": {
            "standoff": 15
           },
           "zerolinecolor": "white",
           "zerolinewidth": 2
          },
          "yaxis": {
           "automargin": true,
           "gridcolor": "white",
           "linecolor": "white",
           "ticks": "",
           "title": {
            "standoff": 15
           },
           "zerolinecolor": "white",
           "zerolinewidth": 2
          }
         }
        },
        "title": {
         "text": "Scatter Plot of IDs vs Dates"
        },
        "xaxis": {
         "title": {
          "text": "Date"
         }
        },
        "yaxis": {
         "title": {
          "text": "ID"
         }
        }
       }
      }
     },
     "metadata": {},
     "output_type": "display_data"
    }
   ],
   "source": [
    "import plotly.graph_objs as go\n",
    "\n",
    "db = dict(zip(list_of_date,list_of_id))\n",
    "db_test = dict(zip(list_of_date_test,list_of_id_test))\n",
    "db_test_name = dict(zip(list_of_date_test,list_of_filename_test))\n",
    "db = {key:val for key, val in db.items() if key > 1677548202}\n",
    "db_test = {key:val for key, val in db_test.items() if key > 1677548202}\n",
    "db_test_name = {key:val for key, val in db_test_name.items() if key > 1677548202}\n",
    "\n",
    "fig = go.Figure()\n",
    "\n",
    "fig.add_trace(go.Scatter(\n",
    "    x=list(db.keys()),\n",
    "    y=list(db.values()),\n",
    "    mode=\"markers\",\n",
    "    marker=dict(\n",
    "        color=\"red\"\n",
    "    )\n",
    "))\n",
    "\n",
    "fig.add_trace(go.Scatter(\n",
    "    x=list(db_test.keys()),\n",
    "    y=list(db_test.values()),\n",
    "    mode=\"markers\",\n",
    "        marker=dict(\n",
    "        color=\"blue\"\n",
    "    )\n",
    "))\n",
    "\n",
    "fig.update_layout(\n",
    "    title=\"Scatter Plot of IDs vs Dates\",\n",
    "    xaxis_title=\"Date\",\n",
    "    yaxis_title=\"ID\"\n",
    ")\n",
    "\n",
    "if len(db) > 1:\n",
    "    fig.show()\n",
    "else:\n",
    "    print(\"Insufficient data to plot the graph\")\n"
   ]
  },
  {
   "cell_type": "code",
   "execution_count": 48,
   "metadata": {},
   "outputs": [
    {
     "data": {
      "text/plain": [
       "<matplotlib.collections.PathCollection at 0x1a8d6671b70>"
      ]
     },
     "execution_count": 48,
     "metadata": {},
     "output_type": "execute_result"
    },
    {
     "data": {
      "image/png": "[encoded data removed]",
      "text/plain": [
       "<Figure size 432x288 with 1 Axes>"
      ]
     },
     "metadata": {
      "needs_background": "light"
     },
     "output_type": "display_data"
    }
   ],
   "source": [
    "plt.scatter(db.keys(),db.values())"
   ]
  },
  {
   "cell_type": "code",
   "execution_count": 39,
   "metadata": {},
   "outputs": [
    {
     "data": {
      "text/plain": [
       "<matplotlib.collections.PathCollection at 0x1a8d65f4a20>"
      ]
     },
     "execution_count": 39,
     "metadata": {},
     "output_type": "execute_result"
    },
    {
     "data": {
      "image/png": "[encoded data removed]",
      "text/plain": [
       "<Figure size 432x288 with 1 Axes>"
      ]
     },
     "metadata": {
      "needs_background": "light"
     },
     "output_type": "display_data"
    }
   ],
   "source": [
    "plt.scatter(db.keys(),db.values())"
   ]
  }
 ],
 "metadata": {
  "kernelspec": {
   "display_name": "venv",
   "language": "python",
   "name": "python3"
  },
  "language_info": {
   "codemirror_mode": {
    "name": "ipython",
    "version": 3
   },
   "file_extension": ".py",
   "mimetype": "text/x-python",
   "name": "python",
   "nbconvert_exporter": "python",
   "pygments_lexer": "ipython3",
   "version": "3.7.0"
  },
  "orig_nbformat": 4
 },
 "nbformat": 4,
 "nbformat_minor": 2
}
