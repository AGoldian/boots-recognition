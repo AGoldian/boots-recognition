{
  "cells": [
    {
      "cell_type": "code",
      "execution_count": 1,
      "metadata": {
        "colab": {
          "base_uri": "https://localhost:8080/"
        },
        "id": "7IdDhE_vD3Ec",
        "outputId": "3c6695a6-7219-405d-ec57-6762eec284b3"
      },
      "outputs": [
        {
          "data": {
            "text/plain": [
              "4"
            ]
          },
          "execution_count": 1,
          "metadata": {},
          "output_type": "execute_result"
        }
      ],
      "source": [
        "list1=[1,2,3,4,5,6,7,8,9]\n",
        "list1.pop(3)"
      ]
    },
    {
      "cell_type": "code",
      "execution_count": 1,
      "metadata": {
        "colab": {
          "base_uri": "https://localhost:8080/"
        },
        "id": "zlZ-CTCgFh1l",
        "outputId": "50427044-7e09-4cce-f97f-8e1ebaa8148e"
      },
      "outputs": [
        {
          "name": "stdout",
          "output_type": "stream",
          "text": [
            "Hello Tarun and Himanshu\n"
          ]
        }
      ],
      "source": [
        "print(\"Hello {1!s} and {0!s}\".format('Himanshu', 'Tarun'))"
      ]
    },
    {
      "cell_type": "code",
      "execution_count": 2,
      "metadata": {
        "id": "420dPmKH8sTi"
      },
      "outputs": [],
      "source": [
        "DEBUG = True\n",
        "\n",
        "\n",
        "def GET_FAISS_RESOURCES():\n",
        "    return None\n",
        "\n",
        "\n",
        "def GET_FAISS_INDEX(index_path):\n",
        "    #raise NotImplementedError\n",
        "    import faiss\n",
        "    index = faiss.read_index(index_path)\n",
        "    return index\n",
        "\n",
        "\n",
        "def GET_FAISS_ID_TO_VECTOR(ids_vectors_path):\n",
        "    #raise NotImplementedError\n",
        "    import pickle\n",
        "    import os\n",
        "    if not os.path.exists(ids_vectors_path):\n",
        "      return None\n",
        "    with open(ids_vectors_path, 'rb') as f:\n",
        "      index_dict = pickle.load(f)\n",
        "    def id_to_vector(id_):\n",
        "      try:\n",
        "        return index_dict[id_]\n",
        "      except:\n",
        "        pass\n",
        "    return id_to_vector\n",
        "\n",
        "\n",
        "UPDATE_FAISS_AFTER_SECONDS = None\n",
        "\n",
        "IMAGESEARCH_TMP = r\"D:/Kaggle/CleanCodeCup/2023/2023/images/images/\"\n",
        "\n",
        "# --------------------- Feature Detect\n",
        "# resize size\n",
        "NOR_X = 512\n",
        "NOR_Y = 384\n",
        "\n",
        "# phash size\n",
        "PHASH_X = 8\n",
        "PHASH_Y = 8\n",
        "#PHASH_Y = 4\n",
        "\n",
        "SIFT_DIMENSIONS = 128\n",
        "\n",
        "# feature's count extracted from each image\n",
        "NUM_FEATURES = 100\n",
        "isAddPhash = False\n",
        "\n",
        "# BoW\n",
        "bow_num_words = 1000\n",
        "dictionary_path = '/faiss-web-service/resources/dictionary'\n",
        "# NUM_FEATURES = 0\n",
        "# isAddPhash = False\n",
        "\n",
        "# --------------------- Train\n",
        "#INDEX_KEY = \"IDMap,Flat\"\n",
        "INDEX_KEY = \"IDMap,PCA128,IVF2048,PQ16\"\n",
        "#INDEX_KEY = \"IDMap,OPQ16_64,IMI2x8,PQ8+16\"\n",
        "#IDMap,OPQ16_64,IMI2x8,PQ8+16\"\n",
        "USE_GPU = True\n",
        "\n",
        "train_image_dir = r\"D:/Kaggle/CleanCodeCup/2023/2023/images/images/\"\n",
        "index_path = \"/faiss-web-service/resources/index\"\n",
        "ids_vectors_path = '/faiss-web-service/resources/ids_paths_vectors'\n",
        "\n",
        "# ---------------------  Search\n",
        "TOP_N = 5\n",
        "SIMILARITY = 5\n"
      ]
    },
    {
      "cell_type": "code",
      "execution_count": 3,
      "metadata": {
        "id": "capHhVL8S_F6"
      },
      "outputs": [],
      "source": [
        "#FEATURE EXTRACTION\n",
        "import numpy as np\n",
        "import os\n",
        "import cv2\n",
        "import logging\n",
        "import uuid\n",
        "import sys"
      ]
    },
    {
      "cell_type": "code",
      "execution_count": 4,
      "metadata": {
        "id": "E6gBCGiCT6y3"
      },
      "outputs": [],
      "source": [
        "sys.path.append(\"..\")\n",
        "#from config import *"
      ]
    },
    {
      "cell_type": "code",
      "execution_count": 5,
      "metadata": {
        "id": "ArUAI_ATYdQu"
      },
      "outputs": [],
      "source": [
        "def calc_phash(gray_image):\n",
        "  img = gray_image\n",
        "  img = cv2.resize(img, (PHASH_X, PHASH_Y), interpolation=cv2.INTER_CUBIC)\n",
        "  h, w = img.shape[:2]\n",
        "  vis0 = np.zeros((h, w), np.float32)\n",
        "  vis0[:h, :w] = img\n",
        "  vis1 = cv2.dct(cv2.dct(vis0))\n",
        "  vis1.resize(PHASH_X, PHASH_Y)\n",
        "  img_list = vis1.flatten()\n",
        "  avg = sum(img_list) * 1. / len(img_list)\n",
        "  avg_list = [np.float32(0) if i < avg else np.float32(1) for i in img_list]\n",
        "  return np.matrix(avg_list).flatten()"
      ]
    },
    {
      "cell_type": "code",
      "execution_count": 7,
      "metadata": {
        "id": "oP1NJDxQYy3P"
      },
      "outputs": [],
      "source": [
        "def adddPhash(gray_image, des):\n",
        "  phash = calc_phash(gray_image)\n",
        "  n, d = des.shape\n",
        "  phash_mat = phash\n",
        "  for i in range(n - 1):\n",
        "    phash_mat = np.vstack((phash_mat, phash))\n",
        "  des = np.hstack((des, phash_mat))\n",
        "  return des"
      ]
    },
    {
      "cell_type": "code",
      "execution_count": 8,
      "metadata": {
        "id": "gDhgxc0RZLYz"
      },
      "outputs": [],
      "source": [
        "\n",
        "def calc_sift(sift, image_file):\n",
        "  if not os.path.isfile(image_file):\n",
        "    logging.error('Image:{} does not exist'.format(image_file))\n",
        "    return -1, None\n",
        "  try:\n",
        "    image_o = cv2.imread(image_file)\n",
        "  except:\n",
        "    logging.error('Open Image:{} failed'.format(image_file))\n",
        "    return -1, None\n",
        "  if image_o is None:\n",
        "    logging.error('Open Image:{} failed'.format(image_file))\n",
        "    return -1, None\n",
        "  image = cv2.resize(image_o, (NOR_X, NOR_Y))\n",
        "  if image.ndim == 2:\n",
        "    gray_image = image\n",
        "  else:\n",
        "    gray_image = cv2.cvtColor(image, cv2.COLOR_BGR2GRAY)\n",
        "  kp, des = sift.detectAndCompute(gray_image, None)\n",
        "  if isAddPhash:\n",
        "    des = adddPhash(gray_image, des)\n",
        "  sift_feature = np.matrix(des)\n",
        "  return 0, sift_feature"
      ]
    },
    {
      "cell_type": "code",
      "execution_count": 9,
      "metadata": {
        "id": "-hOlYmj-Z4My"
      },
      "outputs": [],
      "source": [
        "def get_sift():\n",
        "  return cv2.xfeatures2d.SIFT_create(nfeatures=NUM_FEATURES, nOctaveLayers=3, contrastThreshold=0.04, edgeThreshold=10, sigma=1.6)"
      ]
    },
    {
      "cell_type": "code",
      "execution_count": 10,
      "metadata": {
        "id": "W2wk_ulWaFpG"
      },
      "outputs": [],
      "source": [
        "def get_vectors(sift, image):\n",
        "  return calc_sift(sift, image)"
      ]
    },
    {
      "cell_type": "code",
      "execution_count": 11,
      "metadata": {
        "id": "UtZfg2iSyT9T"
      },
      "outputs": [],
      "source": [
        "def iterate_files(_dir):\n",
        "  result = []\n",
        "  for root, dirs, files in os.walk(_dir, topdown=True):\n",
        "    for fl in files:\n",
        "      if fl.endswith(\"jpg\") or fl.endswith(\"JPG\"):\n",
        "        result.append(os.path.join(root, fl))\n",
        "  '''for files in os.walk(_dir, topdown=True):\n",
        "    (x, y, z) = files\n",
        "  for fl in z:\n",
        "    if fl.endswith(\"jpg\") or fl.endswith(\"JPG\"):\n",
        "      result.append(os.path.join(x, fl))'''\n",
        "  return result"
      ]
    },
    {
      "cell_type": "code",
      "execution_count": 12,
      "metadata": {
        "id": "_hhXDclxfbSG"
      },
      "outputs": [
        {
          "data": {
            "text/plain": [
              "86640"
            ]
          },
          "execution_count": 12,
          "metadata": {},
          "output_type": "execute_result"
        }
      ],
      "source": [
        "img_list = iterate_files('D:/Kaggle/CleanCodeCup/2023/2023/images/images')\n",
        "len(img_list)"
      ]
    },
    {
      "cell_type": "code",
      "execution_count": 13,
      "metadata": {
        "id": "ka3hgn94f2YG"
      },
      "outputs": [],
      "source": [
        "files = os.walk('D:/Kaggle/CleanCodeCup/2023/2023/images/images', topdown=True)"
      ]
    },
    {
      "cell_type": "code",
      "execution_count": 14,
      "metadata": {
        "id": "i_0lh6xugH9v"
      },
      "outputs": [],
      "source": [
        "for f in files:\n",
        "  (x, y, z) = f"
      ]
    },
    {
      "cell_type": "code",
      "execution_count": 15,
      "metadata": {
        "colab": {
          "base_uri": "https://localhost:8080/",
          "height": 34
        },
        "id": "5kNGrZK1qG8a",
        "outputId": "ad33cc8c-096e-471d-a71d-b13f50752391"
      },
      "outputs": [
        {
          "name": "stdout",
          "output_type": "stream",
          "text": [
            "86641\n"
          ]
        }
      ],
      "source": [
        "print(len(z))"
      ]
    },
    {
      "cell_type": "code",
      "execution_count": 16,
      "metadata": {
        "id": "9bjdcUkyp8VQ"
      },
      "outputs": [],
      "source": [
        "res1 = []\n",
        "for fl in z:\n",
        "  if fl.endswith(\"jpg\") or fl.endswith(\"JPG\"):\n",
        "    res1.append(os.path.join(x, fl))"
      ]
    },
    {
      "cell_type": "code",
      "execution_count": 17,
      "metadata": {
        "colab": {
          "base_uri": "https://localhost:8080/",
          "height": 34
        },
        "id": "9Pt5j-VPgLb4",
        "outputId": "7ff31957-4a7a-4771-9a88-e1ad7a57062c"
      },
      "outputs": [
        {
          "name": "stdout",
          "output_type": "stream",
          "text": [
            "86640\n"
          ]
        }
      ],
      "source": [
        "print(len(res1))"
      ]
    },
    {
      "cell_type": "code",
      "execution_count": 18,
      "metadata": {},
      "outputs": [
        {
          "name": "stdout",
          "output_type": "stream",
          "text": [
            "Requirement already satisfied: setuptools in c:\\users\\sergey\\pycharmprojects\\python3_9\\venv\\lib\\site-packages (67.6.0)\n",
            "Note: you may need to restart the kernel to use updated packages.\n"
          ]
        },
        {
          "name": "stderr",
          "output_type": "stream",
          "text": [
            "WARNING: Ignoring invalid distribution -pencv-python (c:\\users\\sergey\\pycharmprojects\\python3_9\\venv\\lib\\site-packages)\n",
            "WARNING: Ignoring invalid distribution -atplotlib (c:\\users\\sergey\\pycharmprojects\\python3_9\\venv\\lib\\site-packages)\n",
            "WARNING: Ignoring invalid distribution -pencv-python (c:\\users\\sergey\\pycharmprojects\\python3_9\\venv\\lib\\site-packages)\n",
            "WARNING: Ignoring invalid distribution -atplotlib (c:\\users\\sergey\\pycharmprojects\\python3_9\\venv\\lib\\site-packages)\n",
            "WARNING: Ignoring invalid distribution -pencv-python (c:\\users\\sergey\\pycharmprojects\\python3_9\\venv\\lib\\site-packages)\n",
            "WARNING: Ignoring invalid distribution -atplotlib (c:\\users\\sergey\\pycharmprojects\\python3_9\\venv\\lib\\site-packages)\n",
            "WARNING: Ignoring invalid distribution -pencv-python (c:\\users\\sergey\\pycharmprojects\\python3_9\\venv\\lib\\site-packages)\n",
            "WARNING: Ignoring invalid distribution -atplotlib (c:\\users\\sergey\\pycharmprojects\\python3_9\\venv\\lib\\site-packages)\n",
            "WARNING: Ignoring invalid distribution -pencv-python (c:\\users\\sergey\\pycharmprojects\\python3_9\\venv\\lib\\site-packages)\n",
            "WARNING: Ignoring invalid distribution -atplotlib (c:\\users\\sergey\\pycharmprojects\\python3_9\\venv\\lib\\site-packages)\n",
            "WARNING: Ignoring invalid distribution -pencv-python (c:\\users\\sergey\\pycharmprojects\\python3_9\\venv\\lib\\site-packages)\n",
            "WARNING: Ignoring invalid distribution -atplotlib (c:\\users\\sergey\\pycharmprojects\\python3_9\\venv\\lib\\site-packages)\n"
          ]
        }
      ],
      "source": [
        "pip install -U setuptools"
      ]
    },
    {
      "cell_type": "code",
      "execution_count": 6,
      "metadata": {
        "colab": {
          "base_uri": "https://localhost:8080/",
          "height": 71
        },
        "id": "TvJAQTs0VBSu",
        "outputId": "58bb956e-d0a7-4653-d873-a96f8167a561"
      },
      "outputs": [
        {
          "name": "stdout",
          "output_type": "stream",
          "text": [
            "Collecting faiss-gpu\n",
            "  Using cached faiss-gpu-1.7.1.post2.tar.gz (40 kB)\n",
            "Requirement already satisfied (use --upgrade to upgrade): faiss-cpu from https://files.pythonhosted.org/packages/17/76/47d0cc8161f4bf988583a2839bb1e56baf09d6b80cfa472b9eba4d5f543b/faiss-gpu-1.7.1.post2.tar.gz#sha256=877478752c03678fd9b9553e4ffadca82cd337bba9bb6a939aa1c6ea561a7a58 in c:\\users\\sergey\\appdata\\local\\programs\\python\\python39\\lib\\site-packages\n",
            "Building wheels for collected packages: faiss-cpu, faiss-cpu\n",
            "  Building wheel for faiss-cpu (setup.py): started\n",
            "  Building wheel for faiss-cpu (setup.py): finished with status 'error'\n",
            "  Running setup.py clean for faiss-cpu\n",
            "  Building wheel for faiss-cpu (setup.py): started\n",
            "  Building wheel for faiss-cpu (setup.py): finished with status 'error'\n",
            "  Running setup.py clean for faiss-cpu\n",
            "Failed to build faiss-cpu faiss-cpu\n",
            "Note: you may need to restart the kernel to use updated packages.\n"
          ]
        },
        {
          "name": "stderr",
          "output_type": "stream",
          "text": [
            "  WARNING: Generating metadata for package faiss-gpu produced metadata for project name faiss-cpu. Fix your #egg=faiss-gpu fragments.\n",
            "  ERROR: Command errored out with exit status 1:\n",
            "   command: 'c:\\Users\\Sergey\\AppData\\Local\\Programs\\Python\\Python39\\python.exe' -u -c 'import sys, setuptools, tokenize; sys.argv[0] = '\"'\"'C:\\\\Users\\\\Sergey\\\\AppData\\\\Local\\\\Temp\\\\pip-install-lqnjp1go\\\\faiss-gpu\\\\setup.py'\"'\"'; __file__='\"'\"'C:\\\\Users\\\\Sergey\\\\AppData\\\\Local\\\\Temp\\\\pip-install-lqnjp1go\\\\faiss-gpu\\\\setup.py'\"'\"';f=getattr(tokenize, '\"'\"'open'\"'\"', open)(__file__);code=f.read().replace('\"'\"'\\r\\n'\"'\"', '\"'\"'\\n'\"'\"');f.close();exec(compile(code, __file__, '\"'\"'exec'\"'\"'))' bdist_wheel -d 'C:\\Users\\Sergey\\AppData\\Local\\Temp\\pip-wheel-2z9h38fg'\n",
            "       cwd: C:\\Users\\Sergey\\AppData\\Local\\Temp\\pip-install-lqnjp1go\\faiss-gpu\\\n",
            "  Complete output (8 lines):\n",
            "  running bdist_wheel\n",
            "  running build\n",
            "  running build_py\n",
            "  running build_ext\n",
            "  building 'faiss._swigfaiss' extension\n",
            "  swigging faiss\\faiss\\python\\swigfaiss.i to faiss\\faiss\\python\\swigfaiss_wrap.cpp\n",
            "  swig.exe -python -c++ -Doverride= -I/usr/local/include -Ifaiss -DSWIGWIN -o faiss\\faiss\\python\\swigfaiss_wrap.cpp faiss\\faiss\\python\\swigfaiss.i\n",
            "  error: command 'swig.exe' failed: None\n",
            "  ----------------------------------------\n",
            "  ERROR: Failed building wheel for faiss-cpu\n",
            "  ERROR: Command errored out with exit status 1:\n",
            "   command: 'c:\\Users\\Sergey\\AppData\\Local\\Programs\\Python\\Python39\\python.exe' -u -c 'import sys, setuptools, tokenize; sys.argv[0] = '\"'\"'C:\\\\Users\\\\Sergey\\\\AppData\\\\Local\\\\Temp\\\\pip-install-lqnjp1go\\\\faiss-gpu\\\\setup.py'\"'\"'; __file__='\"'\"'C:\\\\Users\\\\Sergey\\\\AppData\\\\Local\\\\Temp\\\\pip-install-lqnjp1go\\\\faiss-gpu\\\\setup.py'\"'\"';f=getattr(tokenize, '\"'\"'open'\"'\"', open)(__file__);code=f.read().replace('\"'\"'\\r\\n'\"'\"', '\"'\"'\\n'\"'\"');f.close();exec(compile(code, __file__, '\"'\"'exec'\"'\"'))' bdist_wheel -d 'C:\\Users\\Sergey\\AppData\\Local\\Temp\\pip-wheel-odhwgkp4'\n",
            "       cwd: C:\\Users\\Sergey\\AppData\\Local\\Temp\\pip-install-lqnjp1go\\faiss-gpu\\\n",
            "  Complete output (8 lines):\n",
            "  running bdist_wheel\n",
            "  running build\n",
            "  running build_py\n",
            "  running build_ext\n",
            "  building 'faiss._swigfaiss' extension\n",
            "  swigging faiss\\faiss\\python\\swigfaiss.i to faiss\\faiss\\python\\swigfaiss_wrap.cpp\n",
            "  swig.exe -python -c++ -Doverride= -I/usr/local/include -Ifaiss -DSWIGWIN -o faiss\\faiss\\python\\swigfaiss_wrap.cpp faiss\\faiss\\python\\swigfaiss.i\n",
            "  error: command 'swig.exe' failed: None\n",
            "  ----------------------------------------\n",
            "  ERROR: Failed building wheel for faiss-cpu\n",
            "WARNING: You are using pip version 20.2.3; however, version 23.0.1 is available.\n",
            "You should consider upgrading via the 'c:\\Users\\Sergey\\AppData\\Local\\Programs\\Python\\Python39\\python.exe -m pip install --upgrade pip' command.\n"
          ]
        }
      ],
      "source": [
        "pip install faiss-gpu"
      ]
    },
    {
      "cell_type": "code",
      "execution_count": 15,
      "metadata": {
        "id": "3vmq35bypz-j"
      },
      "outputs": [
        {
          "data": {
            "text/plain": [
              "<module 'faiss' from 'c:\\\\Users\\\\Sergey\\\\PycharmProjects\\\\Python3_9\\\\venv\\\\lib\\\\site-packages\\\\faiss\\\\__init__.py'>"
            ]
          },
          "execution_count": 15,
          "metadata": {},
          "output_type": "execute_result"
        }
      ],
      "source": [
        "import faiss\n",
        "faiss"
      ]
    },
    {
      "cell_type": "code",
      "execution_count": 8,
      "metadata": {
        "id": "M68E5DAZmHhN"
      },
      "outputs": [],
      "source": [
        "#BUILD AND TRAIN INDEX\n",
        "import numpy as np\n",
        "import logging\n",
        "import faiss\n",
        "import pickle\n",
        "import sys"
      ]
    },
    {
      "cell_type": "code",
      "execution_count": 9,
      "metadata": {
        "colab": {
          "base_uri": "https://localhost:8080/",
          "height": 34
        },
        "id": "a7gk31VFmYBa",
        "outputId": "0cfdbdfb-66b6-404f-ae04-5adc8c0c07e2"
      },
      "outputs": [
        {
          "name": "stdout",
          "output_type": "stream",
          "text": [
            "Use GPU...\n"
          ]
        },
        {
          "ename": "AttributeError",
          "evalue": "module 'faiss' has no attribute 'StandardGpuResources'",
          "output_type": "error",
          "traceback": [
            "\u001b[1;31m---------------------------------------------------------------------------\u001b[0m",
            "\u001b[1;31mAttributeError\u001b[0m                            Traceback (most recent call last)",
            "\u001b[1;32md:\\Kaggle\\CleanCodeCup\\2023\\2023\\FAISS.ipynb Cell 21\u001b[0m in \u001b[0;36m<cell line: 5>\u001b[1;34m()\u001b[0m\n\u001b[0;32m      <a href='vscode-notebook-cell:/d%3A/Kaggle/CleanCodeCup/2023/2023/FAISS.ipynb#X26sZmlsZQ%3D%3D?line=4'>5</a>\u001b[0m \u001b[39mif\u001b[39;00m USE_GPU:\n\u001b[0;32m      <a href='vscode-notebook-cell:/d%3A/Kaggle/CleanCodeCup/2023/2023/FAISS.ipynb#X26sZmlsZQ%3D%3D?line=5'>6</a>\u001b[0m   \u001b[39mprint\u001b[39m(\u001b[39m\"\u001b[39m\u001b[39mUse GPU...\u001b[39m\u001b[39m\"\u001b[39m)\n\u001b[1;32m----> <a href='vscode-notebook-cell:/d%3A/Kaggle/CleanCodeCup/2023/2023/FAISS.ipynb#X26sZmlsZQ%3D%3D?line=6'>7</a>\u001b[0m   res \u001b[39m=\u001b[39m faiss\u001b[39m.\u001b[39;49mStandardGpuResources()\n\u001b[0;32m      <a href='vscode-notebook-cell:/d%3A/Kaggle/CleanCodeCup/2023/2023/FAISS.ipynb#X26sZmlsZQ%3D%3D?line=7'>8</a>\u001b[0m   index \u001b[39m=\u001b[39m faiss\u001b[39m.\u001b[39mindex_cpu_to_gpu(res, \u001b[39m0\u001b[39m, index)\n\u001b[0;32m      <a href='vscode-notebook-cell:/d%3A/Kaggle/CleanCodeCup/2023/2023/FAISS.ipynb#X26sZmlsZQ%3D%3D?line=8'>9</a>\u001b[0m images_list \u001b[39m=\u001b[39m iterate_files(\u001b[39mr\u001b[39m\u001b[39m'\u001b[39m\u001b[39mD:/Kaggle/CleanCodeCup/2023/2023/images/images\u001b[39m\u001b[39m'\u001b[39m)\n",
            "\u001b[1;31mAttributeError\u001b[0m: module 'faiss' has no attribute 'StandardGpuResources'"
          ]
        }
      ],
      "source": [
        "dimensions = SIFT_DIMENSIONS\n",
        "if isAddPhash:\n",
        "  dimensions += PHASH_X * PHASH_Y\n",
        "index = faiss.index_factory(dimensions, INDEX_KEY)\n",
        "if USE_GPU:\n",
        "  print(\"Use GPU...\")\n",
        "  res = faiss.StandardGpuResources()\n",
        "  index = faiss.index_cpu_to_gpu(res, 0, index)\n",
        "images_list = iterate_files(r'D:/Kaggle/CleanCodeCup/2023/2023/images/images')\n",
        "ids_count = 0\n",
        "index_dict = {}\n",
        "ids = None\n",
        "features = np.matrix([])\n",
        "sift = get_sift()"
      ]
    },
    {
      "cell_type": "code",
      "execution_count": 23,
      "metadata": {
        "colab": {
          "base_uri": "https://localhost:8080/",
          "height": 34
        },
        "id": "HO8gKduLNN8c",
        "outputId": "717e1bab-02e0-4f99-f612-549372f3388b"
      },
      "outputs": [
        {
          "name": "stdout",
          "output_type": "stream",
          "text": [
            "Requirement already satisfied: setuptools in c:\\users\\sergey\\pycharmprojects\\python3_9\\venv\\lib\\site-packages (67.6.0)\n",
            "Note: you may need to restart the kernel to use updated packages.\n"
          ]
        },
        {
          "name": "stderr",
          "output_type": "stream",
          "text": [
            "WARNING: Ignoring invalid distribution -pencv-python (c:\\users\\sergey\\pycharmprojects\\python3_9\\venv\\lib\\site-packages)\n",
            "WARNING: Ignoring invalid distribution -atplotlib (c:\\users\\sergey\\pycharmprojects\\python3_9\\venv\\lib\\site-packages)\n",
            "WARNING: Ignoring invalid distribution -pencv-python (c:\\users\\sergey\\pycharmprojects\\python3_9\\venv\\lib\\site-packages)\n",
            "WARNING: Ignoring invalid distribution -atplotlib (c:\\users\\sergey\\pycharmprojects\\python3_9\\venv\\lib\\site-packages)\n",
            "WARNING: Ignoring invalid distribution -pencv-python (c:\\users\\sergey\\pycharmprojects\\python3_9\\venv\\lib\\site-packages)\n",
            "WARNING: Ignoring invalid distribution -atplotlib (c:\\users\\sergey\\pycharmprojects\\python3_9\\venv\\lib\\site-packages)\n",
            "WARNING: Ignoring invalid distribution -pencv-python (c:\\users\\sergey\\pycharmprojects\\python3_9\\venv\\lib\\site-packages)\n",
            "WARNING: Ignoring invalid distribution -atplotlib (c:\\users\\sergey\\pycharmprojects\\python3_9\\venv\\lib\\site-packages)\n",
            "WARNING: Ignoring invalid distribution -pencv-python (c:\\users\\sergey\\pycharmprojects\\python3_9\\venv\\lib\\site-packages)\n",
            "WARNING: Ignoring invalid distribution -atplotlib (c:\\users\\sergey\\pycharmprojects\\python3_9\\venv\\lib\\site-packages)\n",
            "WARNING: Ignoring invalid distribution -pencv-python (c:\\users\\sergey\\pycharmprojects\\python3_9\\venv\\lib\\site-packages)\n",
            "WARNING: Ignoring invalid distribution -atplotlib (c:\\users\\sergey\\pycharmprojects\\python3_9\\venv\\lib\\site-packages)\n"
          ]
        }
      ],
      "source": [
        "pip install --upgrade setuptools"
      ]
    },
    {
      "cell_type": "code",
      "execution_count": 24,
      "metadata": {},
      "outputs": [
        {
          "name": "stdout",
          "output_type": "stream",
          "text": [
            "Collecting faiss-gpu\n",
            "  Using cached faiss-gpu-1.7.1.post2.tar.gz (40 kB)\n",
            "  Preparing metadata (setup.py): started\n",
            "  Preparing metadata (setup.py): finished with status 'done'\n",
            "Discarding https://files.pythonhosted.org/packages/17/76/47d0cc8161f4bf988583a2839bb1e56baf09d6b80cfa472b9eba4d5f543b/faiss-gpu-1.7.1.post2.tar.gz (from https://pypi.org/simple/faiss-gpu/): Requested faiss-cpu from https://files.pythonhosted.org/packages/17/76/47d0cc8161f4bf988583a2839bb1e56baf09d6b80cfa472b9eba4d5f543b/faiss-gpu-1.7.1.post2.tar.gz has inconsistent name: expected 'faiss-gpu', but metadata has 'faiss-cpu'\n",
            "  Using cached faiss-gpu-1.7.1.post1.tar.gz (41 kB)\n",
            "  Preparing metadata (setup.py): started\n",
            "  Preparing metadata (setup.py): finished with status 'done'\n",
            "Discarding https://files.pythonhosted.org/packages/39/8d/b62bc92c8dd4b2a99d4a06b8804280f6445748b6d698eabb037e111080c7/faiss-gpu-1.7.1.post1.tar.gz (from https://pypi.org/simple/faiss-gpu/): Requested faiss-cpu from https://files.pythonhosted.org/packages/39/8d/b62bc92c8dd4b2a99d4a06b8804280f6445748b6d698eabb037e111080c7/faiss-gpu-1.7.1.post1.tar.gz has inconsistent name: expected 'faiss-gpu', but metadata has 'faiss-cpu'\n",
            "  Using cached faiss-gpu-1.7.1.tar.gz (40 kB)\n",
            "  Preparing metadata (setup.py): started\n",
            "  Preparing metadata (setup.py): finished with status 'done'\n",
            "Discarding https://files.pythonhosted.org/packages/51/85/7a7490dbecaea9272953b88e236a45fe8c47571a069bc28b352f0b224ea3/faiss-gpu-1.7.1.tar.gz (from https://pypi.org/simple/faiss-gpu/): Requested faiss-cpu from https://files.pythonhosted.org/packages/51/85/7a7490dbecaea9272953b88e236a45fe8c47571a069bc28b352f0b224ea3/faiss-gpu-1.7.1.tar.gz has inconsistent name: expected 'faiss-gpu', but metadata has 'faiss-cpu'\n",
            "  Using cached faiss-gpu-1.7.0.tar.gz (34 kB)\n",
            "  Preparing metadata (setup.py): started\n",
            "  Preparing metadata (setup.py): finished with status 'done'\n",
            "Discarding https://files.pythonhosted.org/packages/63/15/289ecf5d23f209c4c6f2f5f4db1d2b4a2be22d1fc49619354363e9367c19/faiss-gpu-1.7.0.tar.gz (from https://pypi.org/simple/faiss-gpu/): Requested faiss-cpu from https://files.pythonhosted.org/packages/63/15/289ecf5d23f209c4c6f2f5f4db1d2b4a2be22d1fc49619354363e9367c19/faiss-gpu-1.7.0.tar.gz has inconsistent name: expected 'faiss-gpu', but metadata has 'faiss-cpu'\n",
            "  Using cached faiss-gpu-1.6.5.tar.gz (28 kB)\n",
            "  Preparing metadata (setup.py): started\n",
            "  Preparing metadata (setup.py): finished with status 'done'\n",
            "Discarding https://files.pythonhosted.org/packages/9c/27/3477c856ea3d678619c33ae72f89ede4fbe08e9c5ba3b89a5feb3d9938b0/faiss-gpu-1.6.5.tar.gz (from https://pypi.org/simple/faiss-gpu/): Requested faiss-cpu from https://files.pythonhosted.org/packages/9c/27/3477c856ea3d678619c33ae72f89ede4fbe08e9c5ba3b89a5feb3d9938b0/faiss-gpu-1.6.5.tar.gz has inconsistent name: expected 'faiss-gpu', but metadata has 'faiss-cpu'\n",
            "  Using cached faiss-gpu-1.6.4.post2.tar.gz (25 kB)\n",
            "  Preparing metadata (setup.py): started\n",
            "  Preparing metadata (setup.py): finished with status 'done'\n",
            "Discarding https://files.pythonhosted.org/packages/7d/00/b3aaad408a44e4f5d87ebfcd75d0b14eeaed9fe9bc7a9f5e185ff1d503d6/faiss-gpu-1.6.4.post2.tar.gz (from https://pypi.org/simple/faiss-gpu/): Requested faiss-cpu from https://files.pythonhosted.org/packages/7d/00/b3aaad408a44e4f5d87ebfcd75d0b14eeaed9fe9bc7a9f5e185ff1d503d6/faiss-gpu-1.6.4.post2.tar.gz has inconsistent name: expected 'faiss-gpu', but metadata has 'faiss-cpu'\n",
            "  Using cached faiss-gpu-1.6.4.tar.gz (3.4 kB)\n",
            "  Preparing metadata (setup.py): started\n",
            "  Preparing metadata (setup.py): finished with status 'error'\n",
            "Note: you may need to restart the kernel to use updated packages.\n"
          ]
        },
        {
          "name": "stderr",
          "output_type": "stream",
          "text": [
            "WARNING: Ignoring invalid distribution -pencv-python (c:\\users\\sergey\\pycharmprojects\\python3_9\\venv\\lib\\site-packages)\n",
            "WARNING: Ignoring invalid distribution -atplotlib (c:\\users\\sergey\\pycharmprojects\\python3_9\\venv\\lib\\site-packages)\n",
            "WARNING: Ignoring invalid distribution -pencv-python (c:\\users\\sergey\\pycharmprojects\\python3_9\\venv\\lib\\site-packages)\n",
            "WARNING: Ignoring invalid distribution -atplotlib (c:\\users\\sergey\\pycharmprojects\\python3_9\\venv\\lib\\site-packages)\n",
            "  WARNING: Generating metadata for package faiss-gpu produced metadata for project name faiss-cpu. Fix your #egg=faiss-gpu fragments.\n",
            "  WARNING: Generating metadata for package faiss-gpu produced metadata for project name faiss-cpu. Fix your #egg=faiss-gpu fragments.\n",
            "  WARNING: Generating metadata for package faiss-gpu produced metadata for project name faiss-cpu. Fix your #egg=faiss-gpu fragments.\n",
            "  WARNING: Generating metadata for package faiss-gpu produced metadata for project name faiss-cpu. Fix your #egg=faiss-gpu fragments.\n",
            "  WARNING: Generating metadata for package faiss-gpu produced metadata for project name faiss-cpu. Fix your #egg=faiss-gpu fragments.\n",
            "  WARNING: Generating metadata for package faiss-gpu produced metadata for project name faiss-cpu. Fix your #egg=faiss-gpu fragments.\n",
            "  error: subprocess-exited-with-error\n",
            "  \n",
            "  × python setup.py egg_info did not run successfully.\n",
            "  │ exit code: 1\n",
            "  ╰─> [9 lines of output]\n",
            "      c:\\Users\\Sergey\\PycharmProjects\\Python3_9\\venv\\lib\\site-packages\\setuptools\\__init__.py:85: _DeprecatedInstaller: setuptools.installer and fetch_build_eggs are deprecated. Requirements should be satisfied by a PEP 517 installer. If you are using pip, you can try `pip install --use-pep517`.\n",
            "        dist.fetch_build_eggs(dist.setup_requires)\n",
            "      running egg_info\n",
            "      creating C:\\Users\\Sergey\\AppData\\Local\\Temp\\pip-pip-egg-info-id3l02uy\\faiss_cpu.egg-info\n",
            "      writing C:\\Users\\Sergey\\AppData\\Local\\Temp\\pip-pip-egg-info-id3l02uy\\faiss_cpu.egg-info\\PKG-INFO\n",
            "      writing dependency_links to C:\\Users\\Sergey\\AppData\\Local\\Temp\\pip-pip-egg-info-id3l02uy\\faiss_cpu.egg-info\\dependency_links.txt\n",
            "      writing top-level names to C:\\Users\\Sergey\\AppData\\Local\\Temp\\pip-pip-egg-info-id3l02uy\\faiss_cpu.egg-info\\top_level.txt\n",
            "      writing manifest file 'C:\\Users\\Sergey\\AppData\\Local\\Temp\\pip-pip-egg-info-id3l02uy\\faiss_cpu.egg-info\\SOURCES.txt'\n",
            "      error: package directory 'C:\\Users\\Sergey\\AppData\\Local\\Temp\\pip-install-288qteqh\\faiss-gpu_a316db3964f4443ea01afe0111d840ca\\faiss\\faiss\\python' does not exist\n",
            "      [end of output]\n",
            "  \n",
            "  note: This error originates from a subprocess, and is likely not a problem with pip.\n",
            "error: metadata-generation-failed\n",
            "\n",
            "× Encountered error while generating package metadata.\n",
            "╰─> See above for output.\n",
            "\n",
            "note: This is an issue with the package mentioned above, not pip.\n",
            "hint: See above for details.\n",
            "WARNING: Ignoring invalid distribution -pencv-python (c:\\users\\sergey\\pycharmprojects\\python3_9\\venv\\lib\\site-packages)\n",
            "WARNING: Ignoring invalid distribution -atplotlib (c:\\users\\sergey\\pycharmprojects\\python3_9\\venv\\lib\\site-packages)\n",
            "WARNING: Ignoring invalid distribution -pencv-python (c:\\users\\sergey\\pycharmprojects\\python3_9\\venv\\lib\\site-packages)\n",
            "WARNING: Ignoring invalid distribution -atplotlib (c:\\users\\sergey\\pycharmprojects\\python3_9\\venv\\lib\\site-packages)\n",
            "WARNING: Ignoring invalid distribution -pencv-python (c:\\users\\sergey\\pycharmprojects\\python3_9\\venv\\lib\\site-packages)\n",
            "WARNING: Ignoring invalid distribution -atplotlib (c:\\users\\sergey\\pycharmprojects\\python3_9\\venv\\lib\\site-packages)\n"
          ]
        }
      ],
      "source": [
        "pip install faiss-gpu\n"
      ]
    },
    {
      "cell_type": "code",
      "execution_count": null,
      "metadata": {
        "colab": {
          "base_uri": "https://localhost:8080/",
          "height": 51
        },
        "id": "WHQFs_S-m6Tj",
        "outputId": "a84af5b6-d68f-4318-b85c-a38426d7d439"
      },
      "outputs": [
        {
          "name": "stdout",
          "output_type": "stream",
          "text": [
            "done training\n",
            "done adding\n"
          ]
        }
      ],
      "source": [
        "for file_name in images_list:\n",
        "  ret, sift_feature = calc_sift(sift, file_name)\n",
        "  if ret == 0 and sift_feature.any():\n",
        "    image_dict = {ids_count: (file_name, sift_feature)}\n",
        "    index_dict.update(image_dict)\n",
        "    #print(sift_feature.shape[0])\n",
        "    ids_list = np.linspace(ids_count, ids_count, num=sift_feature.shape[0], dtype=\"int64\")\n",
        "    ids_count += 1\n",
        "    if features.any():\n",
        "      features = np.vstack((features, sift_feature))\n",
        "      ids = np.hstack((ids, ids_list))\n",
        "    else:\n",
        "      features = sift_feature\n",
        "      ids = ids_list\n",
        "    if ids_count % 9000000 == 8999999:\n",
        "      if not index.is_trained and INDEX_KEY != \"IDMap,Flat\":\n",
        "        index.train(features)\n",
        "      index.add_with_ids(features, ids)\n",
        "      ids = None\n",
        "      features = np.matrix([])\n",
        "if features.any():\n",
        "  if not index.is_trained and INDEX_KEY != \"IDMap,Flat\":\n",
        "    index.train(features)\n",
        "    print('done training')\n",
        "  index.add_with_ids(features, ids)\n",
        "  print('done adding')\n",
        "#faiss.write_index(index, 'index_path')"
      ]
    },
    {
      "cell_type": "code",
      "execution_count": null,
      "metadata": {
        "colab": {
          "base_uri": "https://localhost:8080/",
          "height": 153
        },
        "id": "0hXocLDhl-pV",
        "outputId": "38e0a633-a73f-40ee-f21f-669e39de5fc7"
      },
      "outputs": [
        {
          "data": {
            "text/plain": [
              "('/content/caltech_short/031.car-tire/031_0070.jpg',\n",
              " matrix([[ 0.,  0.,  0., ...,  1.,  0.,  0.],\n",
              "         [ 0.,  0.,  0., ...,  0.,  0.,  0.],\n",
              "         [62., 26.,  1., ...,  3.,  0.,  0.],\n",
              "         ...,\n",
              "         [ 4.,  9.,  5., ...,  1.,  0.,  0.],\n",
              "         [10.,  6., 22., ...,  0.,  0.,  0.],\n",
              "         [13.,  1.,  0., ...,  6.,  7.,  1.]], dtype=float32))"
            ]
          },
          "execution_count": 87,
          "metadata": {
            "tags": []
          },
          "output_type": "execute_result"
        }
      ],
      "source": [
        "index_dict[51]"
      ]
    },
    {
      "cell_type": "code",
      "execution_count": null,
      "metadata": {
        "id": "neWnxcM9ceSb"
      },
      "outputs": [],
      "source": [
        "ids_vectors_path = 'ids_path_vectors'"
      ]
    },
    {
      "cell_type": "code",
      "execution_count": null,
      "metadata": {
        "colab": {
          "base_uri": "https://localhost:8080/",
          "height": 51
        },
        "id": "w29j37avdWrP",
        "outputId": "f8f395bf-0e50-48c8-8717-66c93eb8a523"
      },
      "outputs": [
        {
          "name": "stdout",
          "output_type": "stream",
          "text": [
            "True\n",
            "125982\n"
          ]
        }
      ],
      "source": [
        "print(index.is_trained)\n",
        "print(index.ntotal)"
      ]
    },
    {
      "cell_type": "code",
      "execution_count": null,
      "metadata": {
        "id": "8ASX-ouCn6nE"
      },
      "outputs": [],
      "source": [
        "with open(ids_vectors_path, 'wb+') as f:\n",
        "  try:\n",
        "    pickle.dump(index_dict, f, True)\n",
        "  except EnvironmentError as e:\n",
        "    logging.error('Failed to save index file error:[{}]'.format(e))\n",
        "    f.close()\n",
        "  except RuntimeError:\n",
        "    logging.error('Failed to save index file error:[{}]'.format(v))\n",
        "f.close()"
      ]
    },
    {
      "cell_type": "code",
      "execution_count": null,
      "metadata": {
        "colab": {
          "base_uri": "https://localhost:8080/",
          "height": 442
        },
        "id": "M_J7URVS_zSW",
        "outputId": "ea65be21-4a12-4a02-b836-2acdb2a3e06f"
      },
      "outputs": [
        {
          "name": "stderr",
          "output_type": "stream",
          "text": [
            "----------------------------------------\n",
            "Exception happened during processing of request from ('::ffff:127.0.0.1', 50322, 0, 0)\n",
            "Traceback (most recent call last):\n",
            "  File \"/usr/lib/python3.6/socketserver.py\", line 320, in _handle_request_noblock\n",
            "    self.process_request(request, client_address)\n",
            "  File \"/usr/lib/python3.6/socketserver.py\", line 351, in process_request\n",
            "    self.finish_request(request, client_address)\n",
            "  File \"/usr/lib/python3.6/socketserver.py\", line 364, in finish_request\n",
            "    self.RequestHandlerClass(request, client_address, self)\n",
            "  File \"/usr/lib/python3.6/socketserver.py\", line 724, in __init__\n",
            "    self.handle()\n",
            "  File \"/usr/lib/python3.6/http/server.py\", line 418, in handle\n",
            "    self.handle_one_request()\n",
            "  File \"/usr/lib/python3.6/http/server.py\", line 406, in handle_one_request\n",
            "    method()\n",
            "  File \"/usr/lib/python3.6/http/server.py\", line 639, in do_GET\n",
            "    self.copyfile(f, self.wfile)\n",
            "  File \"/usr/lib/python3.6/http/server.py\", line 800, in copyfile\n",
            "    shutil.copyfileobj(source, outputfile)\n",
            "  File \"/usr/lib/python3.6/shutil.py\", line 82, in copyfileobj\n",
            "    fdst.write(buf)\n",
            "  File \"/usr/lib/python3.6/socketserver.py\", line 803, in write\n",
            "    self._sock.sendall(b)\n",
            "ConnectionResetError: [Errno 104] Connection reset by peer\n",
            "----------------------------------------\n"
          ]
        }
      ],
      "source": [
        "from google.colab import files\n",
        "files.download(\"ids_path_vectors\")"
      ]
    },
    {
      "cell_type": "code",
      "execution_count": null,
      "metadata": {
        "id": "iA5lH7cryCSM"
      },
      "outputs": [],
      "source": [
        "id_to_vector = GET_FAISS_ID_TO_VECTOR('/content/ids_path_vectors')"
      ]
    },
    {
      "cell_type": "code",
      "execution_count": null,
      "metadata": {
        "colab": {
          "base_uri": "https://localhost:8080/",
          "height": 163
        },
        "id": "wecgJeCM4LUv",
        "outputId": "d38da15f-6d2c-4aae-fd5b-834933ac6e2c"
      },
      "outputs": [
        {
          "ename": "TypeError",
          "evalue": "ignored",
          "output_type": "error",
          "traceback": [
            "\u001b[0;31m---------------------------------------------------------------------------\u001b[0m",
            "\u001b[0;31mTypeError\u001b[0m                                 Traceback (most recent call last)",
            "\u001b[0;32m<ipython-input-34-7e353213b443>\u001b[0m in \u001b[0;36m<module>\u001b[0;34m()\u001b[0m\n\u001b[0;32m----> 1\u001b[0;31m \u001b[0mid_to_vector\u001b[0m\u001b[0;34m[\u001b[0m\u001b[0;34m'/content/caltech_256/image_0001.jpg'\u001b[0m\u001b[0;34m]\u001b[0m\u001b[0;34m\u001b[0m\u001b[0;34m\u001b[0m\u001b[0m\n\u001b[0m",
            "\u001b[0;31mTypeError\u001b[0m: 'function' object is not subscriptable"
          ]
        }
      ],
      "source": [
        "id_to_vector['/content/caltech_256/image_0001.jpg']"
      ]
    },
    {
      "cell_type": "code",
      "execution_count": null,
      "metadata": {
        "id": "ZiSIdEjOoXKd"
      },
      "outputs": [],
      "source": [
        "#SEARCH SIMILARS\n",
        "import heapq\n",
        "import numpy as np\n",
        "import sys"
      ]
    },
    {
      "cell_type": "code",
      "execution_count": null,
      "metadata": {
        "id": "FkBvoZJEoeu0"
      },
      "outputs": [],
      "source": [
        "#sys.path.append(\"..\")\n",
        "#from utils.feature_detect import get_vectors, get_sift\n",
        "#from config import NUM_FEATURES, SIFT_DIMENSIONS, SIMILARITY\n",
        "from read_array_from_java import read_array"
      ]
    },
    {
      "cell_type": "code",
      "execution_count": null,
      "metadata": {
        "id": "yhGbusCGop5U"
      },
      "outputs": [],
      "source": [
        "class FaissIndex(object):\n",
        "  def __init__(self, index, id_to_vector):\n",
        "    assert index\n",
        "    self.index = index\n",
        "    self.id_to_vector = id_to_vector\n",
        "    self.sift = get_sift()\n",
        "  \n",
        "  def search_by_ids(self, ids, k):\n",
        "    vectors = [self.id_to_vector(id_)[1] for id_ in ids]\n",
        "    results = self.__search__(ids, vectors, k + 1)\n",
        "    return results\n",
        "\n",
        "  def search_by_vectors(self, vectors, k):\n",
        "    vectors = read_array(vectors, SIFT_DIMENSIONS)\n",
        "    count = vectors.shape[0]\n",
        "    vectors = np.vstack((vectors, vectors))\n",
        "    vectors = vectors[0:count, :]\n",
        "    print(vectors.shape)\n",
        "    ids = [None]\n",
        "    results = self.__search__(ids, [vectors], k)\n",
        "    return results\n",
        "\n",
        "  def search_by_image(self, image, k):\n",
        "    ids = [None]\n",
        "    ret, vectors = get_vectors(self.sift, image)\n",
        "    print(ret)\n",
        "    results = self.__search__(ids, [vectors], k)\n",
        "    return results\n",
        "\n",
        "  def __search__(self, ids, vectors, topN):\n",
        "    def neighbor_dict_with_path(id_, file_path, score):\n",
        "      return {'id': float(id_), 'file_path': file_path, 'score': score}\n",
        "    def neighbor_dict(id_, score):\n",
        "      return {'id': float(id_), 'score': score}\n",
        "    def result_dict_str(id_, neighbors):\n",
        "      return {'id': id_, 'neighbors': neighbors}\n",
        "    results = []\n",
        "    need_hit = SIMILARITY\n",
        "    for id_, siftfeature in zip(ids, vectors):\n",
        "      scores, neighbors = self.index.search(siftfeature, k=topN) if siftfeature.size > 0 else ([], [])\n",
        "      print(neighbors)\n",
        "      n, d = neighbors.shape\n",
        "      result_dict = {}\n",
        "      for i in range(n):\n",
        "        l = np.unique(neighbors[i]).tolist()\n",
        "        for r_id in l:\n",
        "          if r_id != -1:\n",
        "            score = result_dict.get(r_id, 0)\n",
        "            score += 1\n",
        "            result_dict[r_id] = score\n",
        "      h = []\n",
        "      for k in result_dict:\n",
        "        v = result_dict[k]\n",
        "        if v >= need_hit:\n",
        "          if len(h) < topN:\n",
        "            heapq.heappush(h, (v, k))\n",
        "          else:\n",
        "            heapq.heappushpop(h, (v, k))\n",
        "      result_list = heapq.nlargest(topN, h, key=lambda x: x[0])\n",
        "      neighbors_scores = []\n",
        "      for e in result_list:\n",
        "        confidence = e[0] * 100 / n\n",
        "        if self.id_to_vector:\n",
        "          print(\"A\")\n",
        "          file_path = self.id_to_vector(e[1])[0]\n",
        "          neighbors_scores.append(neighbor_dict_with_path(e[1], file_path, str(confidence)))\n",
        "        else:\n",
        "          neighbors_scores.append(neighbor_dict(e[1], str(confidence)))\n",
        "      results.append(result_dict_str(id_, neighbors_scores))\n",
        "    return results"
      ]
    },
    {
      "cell_type": "code",
      "execution_count": null,
      "metadata": {
        "id": "67YHVGIpf-eq"
      },
      "outputs": [],
      "source": [
        "fs2 = FaissIndex(index=index, id_to_vector=id_to_vector)"
      ]
    },
    {
      "cell_type": "code",
      "execution_count": null,
      "metadata": {
        "colab": {
          "base_uri": "https://localhost:8080/",
          "height": 1000
        },
        "id": "gthcwhAzgsz2",
        "outputId": "ecdf60d3-5b35-4aa0-90d5-461d819a155e"
      },
      "outputs": [
        {
          "name": "stdout",
          "output_type": "stream",
          "text": [
            "0\n",
            "[[ 821  788 1036]\n",
            " [ 821  937  275]\n",
            " [ 821  828  552]\n",
            " [ 821  941   40]\n",
            " [ 821  900 1126]\n",
            " [ 821  936  391]\n",
            " [ 821  776  307]\n",
            " [ 821  674 1239]\n",
            " [ 821  496 1184]\n",
            " [ 821  731  905]\n",
            " [ 821  820  305]\n",
            " [ 821  120  134]\n",
            " [ 821  813  918]\n",
            " [ 821  200  274]\n",
            " [ 821  853  372]\n",
            " [ 821 1015  950]\n",
            " [ 821  959  992]\n",
            " [ 821  286  380]\n",
            " [ 821  414  387]\n",
            " [ 821  141  783]\n",
            " [ 821  920  182]\n",
            " [ 821 1065  821]\n",
            " [ 821  799  923]\n",
            " [ 821  764  821]\n",
            " [ 821  924  829]\n",
            " [ 821  236  276]\n",
            " [ 821  880  317]\n",
            " [ 821  850  692]\n",
            " [ 821  972  783]\n",
            " [ 821  836  924]\n",
            " [ 821 1151  774]\n",
            " [ 821  766  275]\n",
            " [ 821  219  275]\n",
            " [ 821    5  920]\n",
            " [ 821  838  821]\n",
            " [ 821  821  838]\n",
            " [ 821 1077  106]\n",
            " [ 821  941  941]\n",
            " [ 821 1264  937]\n",
            " [ 821  453  276]\n",
            " [ 821  143  368]\n",
            " [ 821  113  289]\n",
            " [ 821  276  276]\n",
            " [ 821  813  248]\n",
            " [ 821  229  504]\n",
            " [ 821  353  281]\n",
            " [ 821  920  783]\n",
            " [ 821  771  817]\n",
            " [ 821  358  372]\n",
            " [ 821  281  587]\n",
            " [ 821  832  805]\n",
            " [ 821  933  143]\n",
            " [ 821   26 1165]\n",
            " [ 821  280  936]\n",
            " [ 821  938  813]\n",
            " [ 821  717  103]\n",
            " [ 821  821 1065]\n",
            " [ 821  770  766]\n",
            " [ 821  774  790]\n",
            " [ 821  223  223]\n",
            " [ 821  833   99]\n",
            " [ 821  960  806]\n",
            " [ 821  104  893]\n",
            " [ 821  697  162]\n",
            " [ 821  204   72]\n",
            " [ 821  278  325]\n",
            " [ 821  899  804]\n",
            " [ 821  771  873]\n",
            " [ 821  960  930]\n",
            " [ 821  862  286]\n",
            " [ 821  552  762]\n",
            " [ 821  855  366]\n",
            " [ 821  478  876]\n",
            " [ 821  954  500]\n",
            " [ 821  302  900]\n",
            " [ 821  914  960]\n",
            " [ 821  637  697]\n",
            " [ 821  333   59]\n",
            " [ 821  511  289]\n",
            " [ 821   38  961]\n",
            " [ 821  763  959]\n",
            " [ 821   25  275]\n",
            " [ 821  236  813]\n",
            " [ 821  958  299]\n",
            " [ 821 1261  792]\n",
            " [ 821  954 1252]\n",
            " [ 821  914  463]\n",
            " [ 821  295  768]\n",
            " [ 821  753  791]\n",
            " [ 821  926  821]\n",
            " [ 821  303  666]\n",
            " [ 821  821  926]\n",
            " [ 821  932  774]\n",
            " [ 821  904   53]\n",
            " [ 821  835  806]\n",
            " [ 821  606  803]\n",
            " [ 821 1027  525]\n",
            " [ 821  429  507]\n",
            " [ 821  821  363]\n",
            " [ 821  821  363]]\n",
            "A\n"
          ]
        },
        {
          "data": {
            "text/plain": [
              "[{'id': None,\n",
              "  'neighbors': [{'file_path': '/content/caltech_short/012.binoculars/012_0179.jpg',\n",
              "    'id': 821.0,\n",
              "    'score': '100.0'}]}]"
            ]
          },
          "execution_count": 124,
          "metadata": {
            "tags": []
          },
          "output_type": "execute_result"
        }
      ],
      "source": [
        "fs2.search_by_image('/content/caltech_short/012.binoculars/012_0179.jpg', 3)"
      ]
    },
    {
      "cell_type": "code",
      "execution_count": null,
      "metadata": {
        "id": "zUYBUSK_ljGy"
      },
      "outputs": [],
      "source": []
    }
  ],
  "metadata": {
    "accelerator": "GPU",
    "colab": {
      "provenance": []
    },
    "kernelspec": {
      "display_name": "Python 3",
      "name": "python3"
    },
    "language_info": {
      "codemirror_mode": {
        "name": "ipython",
        "version": 3
      },
      "file_extension": ".py",
      "mimetype": "text/x-python",
      "name": "python",
      "nbconvert_exporter": "python",
      "pygments_lexer": "ipython3",
      "version": "3.9.0"
    }
  },
  "nbformat": 4,
  "nbformat_minor": 0
}
