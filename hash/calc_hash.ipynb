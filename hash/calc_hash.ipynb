{
 "cells": [
  {
   "cell_type": "code",
   "execution_count": 1,
   "metadata": {},
   "outputs": [],
   "source": [
    "import glob\n",
    "import hashlib\n",
    "import imagehash\n",
    "from PIL import Image\n",
    "import pandas as pd\n",
    "from tqdm import tqdm\n",
    "from collections import Counter"
   ]
  },
  {
   "cell_type": "code",
   "execution_count": 2,
   "metadata": {},
   "outputs": [
    {
     "name": "stderr",
     "output_type": "stream",
     "text": [
      "100%|██████████| 86627/86627 [30:08<00:00, 47.89it/s] \n"
     ]
    }
   ],
   "source": [
    "hash_size = 24\n",
    "\n",
    "filename = []\n",
    "md5_hash = []\n",
    "avg_hash = []\n",
    "\n",
    "# Read 2 types of hash (md5 and avg) and store data in arrays\n",
    "for file in tqdm(glob.glob(r\"W:\\Users\\Goldian\\Desktop\\data\\images\\images\\*.jpg\")):\n",
    "    file_name = file.split(\"\\\\\")[-1]\n",
    "\n",
    "    with open(file, 'rb') as f:\n",
    "        file_hash = hashlib.md5(f.read()).hexdigest()\n",
    "        \n",
    "    with Image.open(file) as img:\n",
    "        temp_hash = imagehash.average_hash(img, hash_size)\n",
    "\n",
    "    filename.append(file_name)\n",
    "    md5_hash.append(file_hash)\n",
    "    avg_hash.append(temp_hash)\n",
    "\n",
    "\n",
    "pd.DataFrame({'image': filename, 'md5': md5_hash, 'avg': avg_hash}).to_csv('allhash.csv', index=False)"
   ]
  },
  {
   "cell_type": "code",
   "execution_count": 14,
   "metadata": {},
   "outputs": [],
   "source": [
    "df = pd.read_csv(r\"..\\\\beda.csv\")\n",
    "tr = pd.read_csv(r\"..\\\\data\\train.csv\")\n",
    "df_test = pd.read_csv(r\"..\\\\data\\test.csv\")"
   ]
  },
  {
   "cell_type": "code",
   "execution_count": 15,
   "metadata": {},
   "outputs": [
    {
     "name": "stdout",
     "output_type": "stream",
     "text": [
      "The dimensionality of the data before cleaning: (47575, 2)\n",
      "The final dimensionality of the data after cleaning: (40832, 2)\n"
     ]
    },
    {
     "data": {
      "text/html": [
       "<div>\n",
       "<style scoped>\n",
       "    .dataframe tbody tr th:only-of-type {\n",
       "        vertical-align: middle;\n",
       "    }\n",
       "\n",
       "    .dataframe tbody tr th {\n",
       "        vertical-align: top;\n",
       "    }\n",
       "\n",
       "    .dataframe thead th {\n",
       "        text-align: right;\n",
       "    }\n",
       "</style>\n",
       "<table border=\"1\" class=\"dataframe\">\n",
       "  <thead>\n",
       "    <tr style=\"text-align: right;\">\n",
       "      <th></th>\n",
       "      <th>class_id</th>\n",
       "      <th>image</th>\n",
       "    </tr>\n",
       "  </thead>\n",
       "  <tbody>\n",
       "    <tr>\n",
       "      <th>0</th>\n",
       "      <td>1410</td>\n",
       "      <td>012IhTSMDC8Pp7NtwUJVlOao3HrcRk4Ad9xG5XFE.jpg</td>\n",
       "    </tr>\n",
       "    <tr>\n",
       "      <th>2</th>\n",
       "      <td>2871</td>\n",
       "      <td>018lTBUgtZ9pC4FVdbvOPwRNYG5Q2nkrADSuyhjJ.jpg</td>\n",
       "    </tr>\n",
       "    <tr>\n",
       "      <th>3</th>\n",
       "      <td>3434</td>\n",
       "      <td>019iQvjmJUFVLDSIdgz3thaGPR6oc5fETyCnAxqN.jpg</td>\n",
       "    </tr>\n",
       "    <tr>\n",
       "      <th>4</th>\n",
       "      <td>2986</td>\n",
       "      <td>019vfB7ykc2dOVYGTAMmDZuNbiIg8exsWjX6SPQo.jpg</td>\n",
       "    </tr>\n",
       "    <tr>\n",
       "      <th>5</th>\n",
       "      <td>582</td>\n",
       "      <td>01BaP8ewyHRTWGUKYOZmELxQuzc3NCMk7V9ghf5n.jpg</td>\n",
       "    </tr>\n",
       "  </tbody>\n",
       "</table>\n",
       "</div>"
      ],
      "text/plain": [
       "   class_id                                         image\n",
       "0      1410  012IhTSMDC8Pp7NtwUJVlOao3HrcRk4Ad9xG5XFE.jpg\n",
       "2      2871  018lTBUgtZ9pC4FVdbvOPwRNYG5Q2nkrADSuyhjJ.jpg\n",
       "3      3434  019iQvjmJUFVLDSIdgz3thaGPR6oc5fETyCnAxqN.jpg\n",
       "4      2986  019vfB7ykc2dOVYGTAMmDZuNbiIg8exsWjX6SPQo.jpg\n",
       "5       582  01BaP8ewyHRTWGUKYOZmELxQuzc3NCMk7V9ghf5n.jpg"
      ]
     },
     "metadata": {},
     "output_type": "display_data"
    }
   ],
   "source": [
    "print(f'The dimensionality of the data before cleaning: {tr.shape}')\n",
    "\n",
    "# Removing dublicate by hash\n",
    "df_mod = df.drop_duplicates(\"avg\")\n",
    "df_mod = df_mod.drop_duplicates('md5')\n",
    "\n",
    "# Combine the known class_id from the train dataframe\n",
    "df_mod[\"class_id\"] = df_mod['image'].map(tr.set_index('image')['class_id'])\n",
    "\n",
    "# Removing NA values\n",
    "df_mod.dropna(inplace=True)\n",
    "\n",
    "# Save dataframe\n",
    "df_mod = df_mod[['class_id', 'image']]\n",
    "df_mod.class_id = df_mod.class_id.astype(int)\n",
    "df_mod.to_csv('clean_train.csv', index=False)\n",
    "\n",
    "print(f'The final dimensionality of the data after cleaning: {df_mod.shape}')\n",
    "display(df_mod.head())"
   ]
  },
  {
   "cell_type": "code",
   "execution_count": 16,
   "metadata": {},
   "outputs": [
    {
     "name": "stdout",
     "output_type": "stream",
     "text": [
      "Total number of successfully found classes - 5279 \\ 31718\n"
     ]
    }
   ],
   "source": [
    "# Combine the known class_id from the common dataframe\n",
    "df[\"class_id\"] = df['image'].map(tr.set_index('image')['class_id'])\n",
    "\n",
    "# Assign a hash to the test dataframe from the common dataframe\n",
    "df_test[\"avg\"] = df_test['image'].map(df.set_index('image')['avg'])\n",
    "df_test['md5'] = df_test['image'].map(df.set_index('image')['md5'])\n",
    "\n",
    "# Creating blank labels\n",
    "df_test[\"label_md5\"] = 0\n",
    "df_test[\"label_avg\"] = 0\n",
    "df_test[\"class_id\"] = 0       # final label\n",
    "\n",
    "# Emulating the training dataframe, removing empty classes\n",
    "df.dropna(inplace=True)\n",
    "df.class_id = df.class_id.astype(int)\n",
    "\n",
    "\n",
    "# Iterate through each line and save its index\n",
    "for index, row in df_test.iterrows():\n",
    "\n",
    "    # We take a data slice where the hash equals the row hash\n",
    "    slice_df_avg = df[df['avg'] == row[\"avg\"]]\n",
    "    slice_df_md5 = df[df['md5'] == row[\"md5\"]]\n",
    "\n",
    "    # Access the line to change\n",
    "    index_label_md5 = df_test.at[index, \"label_md5\"]\n",
    "    index_label_avg = df_test.at[index, \"label_avg\"]\n",
    "\n",
    "    # If the hash is unique, assign -1 class\n",
    "    if len(slice_df_avg) == 0:\n",
    "        index_label_avg  = -1\n",
    "\n",
    "    # Otherwise, choose the most popular (mode) class among the entire data slice\n",
    "    else:\n",
    "        index_label_avg  = list(Counter(slice_df_avg['class_id']).keys())[0]\n",
    "    \n",
    "    # Similarly for the md5 hash\n",
    "    if len(slice_df_md5) == 0:\n",
    "        index_label_md5  = -1\n",
    "    else:\n",
    "        index_label_md5  = list(Counter(slice_df_md5['class_id']).keys())[0]\n",
    "\n",
    "\n",
    "\n",
    "    if index_label_md5 != index_label_avg:\n",
    "\n",
    "        # If the classes are different, then trust md5, because it is based on a perfect match\n",
    "        if index_label_md5 != -1:\n",
    "            df_test.at[index, 'class_id'] = index_label_md5\n",
    "\n",
    "        # If no md5 hash matches are found (class -1), choose avg\n",
    "        else:\n",
    "            df_test.at[index, \"class_id\"] = index_label_avg\n",
    "\n",
    "    else:\n",
    "        df_test.at[index, 'class_id'] = index_label_md5\n",
    "\n",
    "\n",
    "print(f'Total number of successfully found classes - {sum(df_test.class_id != -1)} \\ {len(df_test)}')\n",
    "\n",
    "\n",
    "# Save dataframe\n",
    "\n",
    "df_test.class_id = df_test.class_id.astype(int)\n",
    "sub = df_test[['class_id', 'image']]\n",
    "sub.to_csv('predict_class_hash.csv', index=False)"
   ]
  }
 ],
 "metadata": {
  "kernelspec": {
   "display_name": "Python 3",
   "language": "python",
   "name": "python3"
  },
  "language_info": {
   "codemirror_mode": {
    "name": "ipython",
    "version": 3
   },
   "file_extension": ".py",
   "mimetype": "text/x-python",
   "name": "python",
   "nbconvert_exporter": "python",
   "pygments_lexer": "ipython3",
   "version": "3.9.0"
  },
  "orig_nbformat": 4
 },
 "nbformat": 4,
 "nbformat_minor": 2
}
