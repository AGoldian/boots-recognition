{
 "cells": [
  {
   "cell_type": "code",
   "execution_count": null,
   "id": "360c1df5",
   "metadata": {
    "execution": {
     "iopub.execute_input": "2023-01-29T11:40:49.955779Z",
     "iopub.status.busy": "2023-01-29T11:40:49.955235Z",
     "iopub.status.idle": "2023-01-29T11:42:04.903139Z",
     "shell.execute_reply": "2023-01-29T11:42:04.901580Z"
    },
    "papermill": {
     "duration": 74.956443,
     "end_time": "2023-01-29T11:42:04.905579",
     "exception": false,
     "start_time": "2023-01-29T11:40:49.949136",
     "status": "completed"
    },
    "tags": []
   },
   "outputs": [],
   "source": [
    "!pip install torch==1.12.1"
   ]
  },
  {
   "cell_type": "code",
   "execution_count": 1,
   "id": "d29fb8ac",
   "metadata": {
    "execution": {
     "iopub.execute_input": "2023-01-29T11:42:04.969080Z",
     "iopub.status.busy": "2023-01-29T11:42:04.968760Z",
     "iopub.status.idle": "2023-01-29T11:42:15.377215Z",
     "shell.execute_reply": "2023-01-29T11:42:15.375125Z"
    },
    "papermill": {
     "duration": 10.442082,
     "end_time": "2023-01-29T11:42:15.379669",
     "exception": false,
     "start_time": "2023-01-29T11:42:04.937587",
     "status": "completed"
    },
    "tags": []
   },
   "outputs": [
    {
     "name": "stdout",
     "output_type": "stream",
     "text": [
      "Collecting fastai\n",
      "  Downloading fastai-2.7.11-py3-none-any.whl (232 kB)\n",
      "     -------------------------------------- 232.8/232.8 kB 1.0 MB/s eta 0:00:00\n",
      "Collecting fastcore<1.6,>=1.4.5\n",
      "  Downloading fastcore-1.5.28-py3-none-any.whl (67 kB)\n",
      "     ---------------------------------------- 67.6/67.6 kB 3.8 MB/s eta 0:00:00\n",
      "Requirement already satisfied: torchvision>=0.8.2 in c:\\users\\sergey\\pycharmprojects\\test\\venv\\lib\\site-packages (from fastai) (0.11.0+cu113)\n",
      "Requirement already satisfied: scikit-learn in c:\\users\\sergey\\pycharmprojects\\test\\venv\\lib\\site-packages (from fastai) (1.0)\n",
      "Requirement already satisfied: spacy<4 in c:\\users\\sergey\\pycharmprojects\\test\\venv\\lib\\site-packages (from fastai) (3.2.4)\n",
      "Requirement already satisfied: pyyaml in c:\\users\\sergey\\pycharmprojects\\test\\venv\\lib\\site-packages (from fastai) (5.4.1)\n",
      "Requirement already satisfied: torch<1.14,>=1.7 in c:\\users\\sergey\\pycharmprojects\\test\\venv\\lib\\site-packages (from fastai) (1.10.0+cu113)\n",
      "Requirement already satisfied: pandas in c:\\users\\sergey\\pycharmprojects\\test\\venv\\lib\\site-packages (from fastai) (1.1.5)\n",
      "Requirement already satisfied: packaging in c:\\users\\sergey\\pycharmprojects\\test\\venv\\lib\\site-packages (from fastai) (21.0)\n",
      "Requirement already satisfied: pillow>6.0.0 in c:\\users\\sergey\\pycharmprojects\\test\\venv\\lib\\site-packages (from fastai) (9.0.0)\n",
      "Collecting matplotlib\n",
      "  Using cached matplotlib-3.5.3-cp37-cp37m-win_amd64.whl (7.2 MB)\n",
      "Requirement already satisfied: requests in c:\\users\\sergey\\pycharmprojects\\test\\venv\\lib\\site-packages (from fastai) (2.26.0)\n",
      "Collecting fastprogress>=0.2.4\n",
      "  Downloading fastprogress-1.0.3-py3-none-any.whl (12 kB)\n",
      "Requirement already satisfied: pip in c:\\users\\sergey\\pycharmprojects\\test\\venv\\lib\\site-packages (from fastai) (22.3.1)\n",
      "Requirement already satisfied: scipy in c:\\users\\sergey\\pycharmprojects\\test\\venv\\lib\\site-packages (from fastai) (1.7.3)\n",
      "Collecting fastdownload<2,>=0.0.5\n",
      "  Downloading fastdownload-0.0.7-py3-none-any.whl (12 kB)\n",
      "Collecting typing-extensions<4.0.0.0,>=3.7.4\n",
      "  Downloading typing_extensions-3.10.0.2-py3-none-any.whl (26 kB)\n",
      "Requirement already satisfied: blis<0.8.0,>=0.4.0 in c:\\users\\sergey\\pycharmprojects\\test\\venv\\lib\\site-packages (from spacy<4->fastai) (0.7.7)\n",
      "Requirement already satisfied: pathy>=0.3.5 in c:\\users\\sergey\\pycharmprojects\\test\\venv\\lib\\site-packages (from spacy<4->fastai) (0.6.1)\n",
      "Requirement already satisfied: spacy-legacy<3.1.0,>=3.0.8 in c:\\users\\sergey\\pycharmprojects\\test\\venv\\lib\\site-packages (from spacy<4->fastai) (3.0.9)\n",
      "Requirement already satisfied: murmurhash<1.1.0,>=0.28.0 in c:\\users\\sergey\\pycharmprojects\\test\\venv\\lib\\site-packages (from spacy<4->fastai) (1.0.6)\n",
      "Requirement already satisfied: thinc<8.1.0,>=8.0.12 in c:\\users\\sergey\\pycharmprojects\\test\\venv\\lib\\site-packages (from spacy<4->fastai) (8.0.15)\n",
      "Requirement already satisfied: setuptools in c:\\users\\sergey\\pycharmprojects\\test\\venv\\lib\\site-packages (from spacy<4->fastai) (59.4.0)\n",
      "Requirement already satisfied: wasabi<1.1.0,>=0.8.1 in c:\\users\\sergey\\pycharmprojects\\test\\venv\\lib\\site-packages (from spacy<4->fastai) (0.9.1)\n",
      "Requirement already satisfied: jinja2 in c:\\users\\sergey\\pycharmprojects\\test\\venv\\lib\\site-packages (from spacy<4->fastai) (3.0.1)\n",
      "Requirement already satisfied: click<8.1.0 in c:\\users\\sergey\\pycharmprojects\\test\\venv\\lib\\site-packages (from spacy<4->fastai) (8.0.4)\n",
      "Requirement already satisfied: catalogue<2.1.0,>=2.0.6 in c:\\users\\sergey\\pycharmprojects\\test\\venv\\lib\\site-packages (from spacy<4->fastai) (2.0.7)\n",
      "Requirement already satisfied: pydantic!=1.8,!=1.8.1,<1.9.0,>=1.7.4 in c:\\users\\sergey\\pycharmprojects\\test\\venv\\lib\\site-packages (from spacy<4->fastai) (1.8.2)\n",
      "Requirement already satisfied: tqdm<5.0.0,>=4.38.0 in c:\\users\\sergey\\pycharmprojects\\test\\venv\\lib\\site-packages (from spacy<4->fastai) (4.64.1)\n",
      "Requirement already satisfied: spacy-loggers<2.0.0,>=1.0.0 in c:\\users\\sergey\\pycharmprojects\\test\\venv\\lib\\site-packages (from spacy<4->fastai) (1.0.2)\n",
      "Requirement already satisfied: langcodes<4.0.0,>=3.2.0 in c:\\users\\sergey\\pycharmprojects\\test\\venv\\lib\\site-packages (from spacy<4->fastai) (3.3.0)\n",
      "Requirement already satisfied: numpy>=1.15.0 in c:\\users\\sergey\\pycharmprojects\\test\\venv\\lib\\site-packages (from spacy<4->fastai) (1.21.6)\n",
      "Requirement already satisfied: typer<0.5.0,>=0.3.0 in c:\\users\\sergey\\pycharmprojects\\test\\venv\\lib\\site-packages (from spacy<4->fastai) (0.4.1)\n",
      "Requirement already satisfied: srsly<3.0.0,>=2.4.1 in c:\\users\\sergey\\pycharmprojects\\test\\venv\\lib\\site-packages (from spacy<4->fastai) (2.4.2)\n",
      "Requirement already satisfied: preshed<3.1.0,>=3.0.2 in c:\\users\\sergey\\pycharmprojects\\test\\venv\\lib\\site-packages (from spacy<4->fastai) (3.0.6)\n",
      "Requirement already satisfied: cymem<2.1.0,>=2.0.2 in c:\\users\\sergey\\pycharmprojects\\test\\venv\\lib\\site-packages (from spacy<4->fastai) (2.0.6)\n",
      "Requirement already satisfied: pyparsing>=2.0.2 in c:\\users\\sergey\\pycharmprojects\\test\\venv\\lib\\site-packages (from packaging->fastai) (2.4.7)\n",
      "Requirement already satisfied: urllib3<1.27,>=1.21.1 in c:\\users\\sergey\\pycharmprojects\\test\\venv\\lib\\site-packages (from requests->fastai) (1.26.7)\n",
      "Requirement already satisfied: idna<4,>=2.5 in c:\\users\\sergey\\pycharmprojects\\test\\venv\\lib\\site-packages (from requests->fastai) (2.10)\n",
      "Requirement already satisfied: charset-normalizer~=2.0.0 in c:\\users\\sergey\\pycharmprojects\\test\\venv\\lib\\site-packages (from requests->fastai) (2.0.6)\n",
      "Requirement already satisfied: certifi>=2017.4.17 in c:\\users\\sergey\\pycharmprojects\\test\\venv\\lib\\site-packages (from requests->fastai) (2021.5.30)"
     ]
    },
    {
     "name": "stderr",
     "output_type": "stream",
     "text": [
      "WARNING: Ignoring invalid distribution -illow (c:\\users\\sergey\\pycharmprojects\\test\\venv\\lib\\site-packages)\n",
      "WARNING: Ignoring invalid distribution -atplotlib (c:\\users\\sergey\\pycharmprojects\\test\\venv\\lib\\site-packages)\n",
      "WARNING: Ignoring invalid distribution -illow (c:\\users\\sergey\\pycharmprojects\\test\\venv\\lib\\site-packages)\n",
      "WARNING: Ignoring invalid distribution -atplotlib (c:\\users\\sergey\\pycharmprojects\\test\\venv\\lib\\site-packages)\n",
      "WARNING: Ignoring invalid distribution -illow (c:\\users\\sergey\\pycharmprojects\\test\\venv\\lib\\site-packages)\n",
      "WARNING: Ignoring invalid distribution -atplotlib (c:\\users\\sergey\\pycharmprojects\\test\\venv\\lib\\site-packages)\n",
      "    WARNING: Ignoring invalid distribution -illow (c:\\users\\sergey\\pycharmprojects\\test\\venv\\lib\\site-packages)\n",
      "    WARNING: Ignoring invalid distribution -atplotlib (c:\\users\\sergey\\pycharmprojects\\test\\venv\\lib\\site-packages)\n",
      "WARNING: Ignoring invalid distribution -illow (c:\\users\\sergey\\pycharmprojects\\test\\venv\\lib\\site-packages)\n",
      "WARNING: Ignoring invalid distribution -atplotlib (c:\\users\\sergey\\pycharmprojects\\test\\venv\\lib\\site-packages)\n",
      "WARNING: Ignoring invalid distribution -illow (c:\\users\\sergey\\pycharmprojects\\test\\venv\\lib\\site-packages)\n",
      "WARNING: Ignoring invalid distribution -atplotlib (c:\\users\\sergey\\pycharmprojects\\test\\venv\\lib\\site-packages)\n",
      "WARNING: Ignoring invalid distribution -illow (c:\\users\\sergey\\pycharmprojects\\test\\venv\\lib\\site-packages)\n",
      "WARNING: Ignoring invalid distribution -atplotlib (c:\\users\\sergey\\pycharmprojects\\test\\venv\\lib\\site-packages)\n",
      "WARNING: Ignoring invalid distribution -illow (c:\\users\\sergey\\pycharmprojects\\test\\venv\\lib\\site-packages)\n",
      "WARNING: Ignoring invalid distribution -atplotlib (c:\\users\\sergey\\pycharmprojects\\test\\venv\\lib\\site-packages)\n",
      "WARNING: Ignoring invalid distribution -illow (c:\\users\\sergey\\pycharmprojects\\test\\venv\\lib\\site-packages)\n",
      "WARNING: Ignoring invalid distribution -atplotlib (c:\\users\\sergey\\pycharmprojects\\test\\venv\\lib\\site-packages)\n",
      "WARNING: Ignoring invalid distribution -illow (c:\\users\\sergey\\pycharmprojects\\test\\venv\\lib\\site-packages)\n",
      "WARNING: Ignoring invalid distribution -atplotlib (c:\\users\\sergey\\pycharmprojects\\test\\venv\\lib\\site-packages)\n",
      "ERROR: pip's dependency resolver does not currently take into account all the packages that are installed. This behaviour is the source of the following dependency conflicts.\n",
      "rich 12.6.0 requires typing-extensions<5.0,>=4.0.0; python_version < \"3.9\", but you have typing-extensions 3.10.0.2 which is incompatible.\n",
      "parlai 1.5.1 requires importlib-metadata<4.3, but you have importlib-metadata 4.11.3 which is incompatible.\n",
      "parlai 1.5.1 requires myst-parser~=0.12.2, but you have myst-parser 0.18.1 which is incompatible.\n",
      "parlai 1.5.1 requires Sphinx~=2.2.0, but you have sphinx 5.3.0 which is incompatible.\n",
      "parlai 1.5.1 requires tqdm~=4.62.1, but you have tqdm 4.64.1 which is incompatible.\n",
      "flake8 4.0.1 requires importlib-metadata<4.3; python_version < \"3.8\", but you have importlib-metadata 4.11.3 which is incompatible.\n",
      "aiohttp 3.7.4.post0 requires async-timeout<4.0,>=3.0, but you have async-timeout 4.0.2 which is incompatible.\n",
      "WARNING: Ignoring invalid distribution -illow (c:\\users\\sergey\\pycharmprojects\\test\\venv\\lib\\site-packages)\n",
      "WARNING: Ignoring invalid distribution -atplotlib (c:\\users\\sergey\\pycharmprojects\\test\\venv\\lib\\site-packages)\n",
      "WARNING: Ignoring invalid distribution -illow (c:\\users\\sergey\\pycharmprojects\\test\\venv\\lib\\site-packages)\n",
      "WARNING: Ignoring invalid distribution -atplotlib (c:\\users\\sergey\\pycharmprojects\\test\\venv\\lib\\site-packages)\n",
      "WARNING: Ignoring invalid distribution -illow (c:\\users\\sergey\\pycharmprojects\\test\\venv\\lib\\site-packages)\n",
      "WARNING: Ignoring invalid distribution -atplotlib (c:\\users\\sergey\\pycharmprojects\\test\\venv\\lib\\site-packages)\n",
      "\n",
      "[notice] A new release of pip available: 22.3.1 -> 23.0.1\n",
      "[notice] To update, run: python.exe -m pip install --upgrade pip\n"
     ]
    },
    {
     "name": "stdout",
     "output_type": "stream",
     "text": [
      "\n",
      "Requirement already satisfied: kiwisolver>=1.0.1 in c:\\users\\sergey\\pycharmprojects\\test\\venv\\lib\\site-packages (from matplotlib->fastai) (1.3.2)\n",
      "Requirement already satisfied: python-dateutil>=2.7 in c:\\users\\sergey\\pycharmprojects\\test\\venv\\lib\\site-packages (from matplotlib->fastai) (2.8.2)\n",
      "Requirement already satisfied: cycler>=0.10 in c:\\users\\sergey\\pycharmprojects\\test\\venv\\lib\\site-packages (from matplotlib->fastai) (0.10.0)\n",
      "Requirement already satisfied: fonttools>=4.22.0 in c:\\users\\sergey\\pycharmprojects\\test\\venv\\lib\\site-packages (from matplotlib->fastai) (4.38.0)\n",
      "Requirement already satisfied: pytz>=2017.2 in c:\\users\\sergey\\pycharmprojects\\test\\venv\\lib\\site-packages (from pandas->fastai) (2021.3)\n",
      "Requirement already satisfied: joblib>=0.11 in c:\\users\\sergey\\pycharmprojects\\test\\venv\\lib\\site-packages (from scikit-learn->fastai) (1.1.0)\n",
      "Requirement already satisfied: threadpoolctl>=2.0.0 in c:\\users\\sergey\\pycharmprojects\\test\\venv\\lib\\site-packages (from scikit-learn->fastai) (3.0.0)\n",
      "Requirement already satisfied: zipp>=0.5 in c:\\users\\sergey\\pycharmprojects\\test\\venv\\lib\\site-packages (from catalogue<2.1.0,>=2.0.6->spacy<4->fastai) (3.5.0)\n",
      "Requirement already satisfied: colorama in c:\\users\\sergey\\pycharmprojects\\test\\venv\\lib\\site-packages (from click<8.1.0->spacy<4->fastai) (0.4.6)\n",
      "Requirement already satisfied: importlib-metadata in c:\\users\\sergey\\pycharmprojects\\test\\venv\\lib\\site-packages (from click<8.1.0->spacy<4->fastai) (4.11.3)\n",
      "Requirement already satisfied: six in c:\\users\\sergey\\pycharmprojects\\test\\venv\\lib\\site-packages (from cycler>=0.10->matplotlib->fastai) (1.15.0)\n",
      "Requirement already satisfied: smart-open<6.0.0,>=5.0.0 in c:\\users\\sergey\\pycharmprojects\\test\\venv\\lib\\site-packages (from pathy>=0.3.5->spacy<4->fastai) (5.2.1)\n",
      "Requirement already satisfied: MarkupSafe>=2.0 in c:\\users\\sergey\\pycharmprojects\\test\\venv\\lib\\site-packages (from jinja2->spacy<4->fastai) (2.1.1)\n",
      "Installing collected packages: typing-extensions, fastprogress, matplotlib, fastcore, fastdownload, fastai\n",
      "  Attempting uninstall: typing-extensions\n",
      "    Found existing installation: typing_extensions 4.4.0\n",
      "    Uninstalling typing_extensions-4.4.0:\n",
      "      Successfully uninstalled typing_extensions-4.4.0\n",
      "Successfully installed fastai-2.7.11 fastcore-1.5.28 fastdownload-0.0.7 fastprogress-1.0.3 matplotlib-3.5.3 typing-extensions-3.10.0.2\n"
     ]
    }
   ],
   "source": [
    "!pip install fastai"
   ]
  },
  {
   "cell_type": "code",
   "execution_count": null,
   "id": "f125a6c7",
   "metadata": {
    "execution": {
     "iopub.execute_input": "2023-01-29T11:42:15.513445Z",
     "iopub.status.busy": "2023-01-29T11:42:15.512608Z",
     "iopub.status.idle": "2023-01-29T11:42:17.648765Z",
     "shell.execute_reply": "2023-01-29T11:42:17.647799Z"
    },
    "papermill": {
     "duration": 2.169162,
     "end_time": "2023-01-29T11:42:17.651129",
     "exception": false,
     "start_time": "2023-01-29T11:42:15.481967",
     "status": "completed"
    },
    "tags": []
   },
   "outputs": [],
   "source": [
    "import os\n",
    "import sys\n",
    "import numpy as np\n",
    "import pandas as pd\n",
    "\n",
    "from timm import create_model\n",
    "import fastai\n",
    "from fastai.vision.all import *\n",
    "\n",
    "set_seed(999, reproducible=True)"
   ]
  },
  {
   "cell_type": "code",
   "execution_count": null,
   "id": "17664b5b",
   "metadata": {},
   "outputs": [],
   "source": [
    "dataset_path_train = '../input/codenrockart/'\n",
    "\n",
    "dataset_path_test = '../input/codenrockart/test/test'"
   ]
  },
  {
   "cell_type": "code",
   "execution_count": null,
   "id": "09e5aa08",
   "metadata": {},
   "outputs": [],
   "source": [
    "# model names in timm, corresponding image input sizes and weights in the final model blend\n",
    "\n",
    "TIMM_MODELS = (('swinv2_large_window12to16_192to256_22kft1k', 384, 0.189), ('swin_large_patch4_window12_384', 384, 0.168), ('vit_large_patch14_clip_336', 336, 0.063), \n",
    "               ('beit_large_patch16_384', 384, 0.261), ('beitv2_large_patch16_224', 224, 0.087), ('beit_large_patch16_224.in22k_ft_in22k', 224, 0.232))"
   ]
  },
  {
   "cell_type": "code",
   "execution_count": null,
   "id": "69e7ce0c",
   "metadata": {
    "execution": {
     "iopub.execute_input": "2023-01-29T11:42:19.087139Z",
     "iopub.status.busy": "2023-01-29T11:42:19.085722Z",
     "iopub.status.idle": "2023-01-29T11:42:19.265284Z",
     "shell.execute_reply": "2023-01-29T11:42:19.264252Z"
    },
    "papermill": {
     "duration": 0.212496,
     "end_time": "2023-01-29T11:42:19.267593",
     "exception": false,
     "start_time": "2023-01-29T11:42:19.055097",
     "status": "completed"
    },
    "tags": []
   },
   "outputs": [],
   "source": [
    "train_df = pd.read_csv(dataset_path_train/'train.csv', sep='\\t')\n",
    "train_df['path'] = train_df['image_name'].map(lambda x: str(dataset_path_train/'train_data/train'/x))\n",
    "train_df = train_df.drop(columns=['image_name'])\n",
    "train_df = train_df.sample(frac=1).reset_index(drop=True)"
   ]
  },
  {
   "cell_type": "code",
   "execution_count": null,
   "id": "868d92a0",
   "metadata": {},
   "outputs": [],
   "source": [
    "file_list = [f for f in os.listdir(dataset_path_test)]\n",
    "\n",
    "test_df = pd.DataFrame(file_list, columns=['image_name'])\n",
    "test_df['path'] = test_df['image_name'].map(lambda x:str(dataset_path_test+'/'+x))\n",
    "test_df['label_id'] = [0]*len(test_df)"
   ]
  },
  {
   "cell_type": "code",
   "execution_count": null,
   "id": "0eb1769f",
   "metadata": {
    "execution": {
     "iopub.execute_input": "2023-01-29T11:42:24.673907Z",
     "iopub.status.busy": "2023-01-29T11:42:24.673591Z",
     "iopub.status.idle": "2023-01-29T11:43:41.946343Z",
     "shell.execute_reply": "2023-01-29T11:43:41.945299Z"
    },
    "papermill": {
     "duration": 77.31235,
     "end_time": "2023-01-29T11:43:41.949091",
     "exception": false,
     "start_time": "2023-01-29T11:42:24.636741",
     "status": "completed"
    },
    "tags": []
   },
   "outputs": [],
   "source": [
    "def train_and_predict(model):\n",
    "\n",
    "    model_name = model[0]\n",
    "    img_size = model[1]\n",
    "\n",
    "    dls = ImageDataLoaders.from_df(train_df,\n",
    "                               valid_pct=0.0,\n",
    "                               seed=999,\n",
    "                               fn_col='path',\n",
    "                               label_col='label_id',\n",
    "                               y_block=CategoryBlock,\n",
    "                               bs=8,\n",
    "                               num_workers=2,\n",
    "                               item_tfms=Resize(img_size),\n",
    "                               batch_tfms=aug_transforms(size=img_size))\n",
    "\n",
    "    model = create_model(model_name, pretrained=True, num_classes=dls.c)\n",
    "\n",
    "    learn = Learner(dls, model, loss_func=CrossEntropyLossFlat(), metrics=accuracy)\n",
    "\n",
    "    learn.fit_one_cycle(3, 2e-5)\n",
    "\n",
    "    test_dl = dls.test_dl(test_df)\n",
    "\n",
    "    prediction, _ = learn.tta(dl=test_dl, n=7)\n",
    "\n",
    "    return prediction"
   ]
  },
  {
   "cell_type": "code",
   "execution_count": null,
   "id": "40ef10c8",
   "metadata": {
    "execution": {
     "iopub.execute_input": "2023-01-29T11:43:42.027756Z",
     "iopub.status.busy": "2023-01-29T11:43:42.026704Z",
     "iopub.status.idle": "2023-01-29T11:43:42.033361Z",
     "shell.execute_reply": "2023-01-29T11:43:42.032424Z"
    },
    "papermill": {
     "duration": 0.047185,
     "end_time": "2023-01-29T11:43:42.035500",
     "exception": false,
     "start_time": "2023-01-29T11:43:41.988315",
     "status": "completed"
    },
    "tags": []
   },
   "outputs": [],
   "source": [
    "prediction_blend = []\n",
    "\n",
    "for model in TIMM_MODELS:\n",
    "\n",
    "    prediction = train_and_predict(model)\n",
    "\n",
    "    model_weight = model[2]\n",
    "\n",
    "    prediction_blend.append(model_weight*prediction)"
   ]
  },
  {
   "cell_type": "code",
   "execution_count": null,
   "id": "154899d9",
   "metadata": {
    "execution": {
     "iopub.execute_input": "2023-01-29T11:43:42.111580Z",
     "iopub.status.busy": "2023-01-29T11:43:42.110763Z",
     "iopub.status.idle": "2023-01-29T12:47:49.355704Z",
     "shell.execute_reply": "2023-01-29T12:47:49.354576Z"
    },
    "papermill": {
     "duration": 3847.28538,
     "end_time": "2023-01-29T12:47:49.358108",
     "exception": false,
     "start_time": "2023-01-29T11:43:42.072728",
     "status": "completed"
    },
    "tags": []
   },
   "outputs": [],
   "source": [
    "prediction_final = sum(prediction_blend)\n",
    "\n",
    "test_df['label_id'] = np.argmax(prediction_final, axis=1)\n",
    "\n",
    "test_df[['image_name', 'label_id']].to_csv('submission.csv', index=False, sep='\\t')"
   ]
  },
  {
   "cell_type": "code",
   "execution_count": 35,
   "id": "e36d5a5e",
   "metadata": {},
   "outputs": [
    {
     "name": "stdout",
     "output_type": "stream",
     "text": [
      "1677557442.0 03b8LYVsuXgeyoShqITkMWF4PjvUKJOrwldnfQtA.jpg\n"
     ]
    },
    {
     "data": {
      "text/plain": [
       "<matplotlib.collections.PathCollection at 0x20fac0b2358>"
      ]
     },
     "execution_count": 35,
     "metadata": {},
     "output_type": "execute_result"
    },
    {
     "data": {
      "image/png": "[encoded data removed]",
      "text/plain": [
       "<Figure size 432x288 with 1 Axes>"
      ]
     },
     "metadata": {
      "needs_background": "light"
     },
     "output_type": "display_data"
    }
   ],
   "source": [
    "import os\n",
    "import platform\n",
    "import pandas as pd\n",
    "def creation_date(path_to_file):\n",
    "    \"\"\"\n",
    "    Try to get the date that a file was created, falling back to when it was\n",
    "    last modified if that isn't possible.\n",
    "    See http://stackoverflow.com/a/39501288/1709587 for explanation.\n",
    "    \"\"\"\n",
    "    if platform.system() == 'Windows':\n",
    "        return os.path.getctime(path_to_file)\n",
    "    else:\n",
    "        stat = os.stat(path_to_file)\n",
    "        try:\n",
    "            return stat.st_birthtime\n",
    "        except AttributeError:\n",
    "            # We're probably on Linux. No easy way to get creation dates here,\n",
    "            # so we'll settle for when its content was last modified.\n",
    "            return stat.st_mtime\n",
    "\n",
    "def get_class_id(path, df): \n",
    "    return df[df['image']==path]['class_id']\n",
    "\n",
    "df_classes = pd.read_csv(\"train.csv\")\n",
    "import glob\n",
    "import matplotlib.pyplot as plt\n",
    "i = 0\n",
    "x = []\n",
    "y = []\n",
    "for file in glob.glob(\"./images/images/*.jpg\"):\n",
    "    image = file.split(\"\\\\\")[-1]\n",
    "    class_number = get_class_id(image, df_classes)\n",
    "    if len(class_number) > 0:\n",
    "        class_number = class_number.values[0]\n",
    "    else:\n",
    "        continue\n",
    "    cr_date = creation_date(\"./images/images/\" + image) # 0\n",
    "    x.append(cr_date)\n",
    "    y.append(class_number)\n",
    "    if cr_date > 1677548262.0:\n",
    "        print(cr_date,image)\n",
    "        break\n",
    "    # print(cr_date, class_number)\n",
    "    i+=1\n",
    "plt.scatter(x, y)\n",
    "\n",
    "# print(creation_date(\"./images/images/vediWE6cXt1ayjU7gNYp4TxKR5F09QsDSqr8GmhL.jpg\")) # 0 \n",
    "# print(creation_date(\"./images/images/MTI84YVHwc1KUWdu7LqzEFZmkGJb9ofQxvCAeO5D.jpg\")) # 100\n",
    "# print(creation_date(\"./images/images/IQvZWKslpkqPgFOacdw6y9VT3S1moMu45zL7eChH.jpg\")) # 500\n",
    "# print(creation_date(\"./images/images/RU4SPDwouXM8QJbLd7AfIvH2VWleN3hpq0YEtjzO.jpg\")) # 500\n",
    "# print(creation_date(\"./images/images/sqym3bgzLoDWnHI67EJURTG2iulXptfakS4cKVBh.jpg\")) # 500\n"
   ]
  },
  {
   "cell_type": "code",
   "execution_count": null,
   "id": "f5bcfb63",
   "metadata": {},
   "outputs": [],
   "source": []
  },
  {
   "cell_type": "code",
   "execution_count": 20,
   "id": "50b5df5f",
   "metadata": {},
   "outputs": [
    {
     "data": {
      "text/plain": [
       "1000"
      ]
     },
     "execution_count": 20,
     "metadata": {},
     "output_type": "execute_result"
    }
   ],
   "source": [
    "ab.values[0]"
   ]
  },
  {
   "cell_type": "code",
   "execution_count": null,
   "id": "f71f598b",
   "metadata": {},
   "outputs": [],
   "source": [
    "\n"
   ]
  }
 ],
 "metadata": {
  "kernelspec": {
   "display_name": "Python 3",
   "language": "python",
   "name": "python3"
  },
  "language_info": {
   "codemirror_mode": {
    "name": "ipython",
    "version": 3
   },
   "file_extension": ".py",
   "mimetype": "text/x-python",
   "name": "python",
   "nbconvert_exporter": "python",
   "pygments_lexer": "ipython3",
   "version": "3.7.0"
  },
  "papermill": {
   "default_parameters": {},
   "duration": 5758.278623,
   "end_time": "2023-01-29T13:16:40.596002",
   "environment_variables": {},
   "exception": null,
   "input_path": "__notebook__.ipynb",
   "output_path": "__notebook__.ipynb",
   "parameters": {},
   "start_time": "2023-01-29T11:40:42.317379",
   "version": "2.3.4"
  }
 },
 "nbformat": 4,
 "nbformat_minor": 5
}
